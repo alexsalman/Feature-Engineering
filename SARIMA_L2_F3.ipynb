{
  "nbformat": 4,
  "nbformat_minor": 0,
  "metadata": {
    "colab": {
      "provenance": []
    },
    "kernelspec": {
      "name": "python3",
      "display_name": "Python 3"
    },
    "language_info": {
      "name": "python"
    }
  },
  "cells": [
    {
      "cell_type": "markdown",
      "source": [
        "# SARIMA (Seasonal Autoregressive Integrated Moving Average)\n",
        "A versatile and widely used time series forecasting model. It’s an extension of the non-seasonal ARIMA model, designed to handle data with seasonal patterns. SARIMA captures both short-term and long-term dependencies within the data, making it a robust tool for forecasting. It combines the concepts of autoregressive (AR), integrated (I), and moving average (MA) models with seasonal components."
      ],
      "metadata": {
        "id": "ddzelWjmFRyu"
      }
    },
    {
      "cell_type": "code",
      "source": [
        "# @title Tools Imports\n",
        "import os\n",
        "import numpy as np\n",
        "import pandas as pd\n",
        "import matplotlib.pyplot as plt\n",
        "import plotly.graph_objects as go\n",
        "from google.colab import drive\n",
        "from sklearn.preprocessing import MinMaxScaler\n",
        "from sklearn.metrics import mean_squared_error, mean_absolute_error\n",
        "from sklearn.metrics import r2_score, mean_squared_log_error\n",
        "from statsmodels.tsa.statespace.sarimax import SARIMAX\n",
        "from statsmodels.tsa.holtwinters import ExponentialSmoothing\n",
        "from statsmodels.tsa.stattools import acf, pacf\n",
        "from statsmodels.graphics.tsaplots import plot_acf, plot_pacf\n",
        "from statsmodels.stats.diagnostic import acorr_ljungbox\n",
        "import warnings\n",
        "warnings.filterwarnings('ignore')"
      ],
      "metadata": {
        "id": "FP5W7prZA-j2"
      },
      "execution_count": 1,
      "outputs": []
    },
    {
      "cell_type": "code",
      "source": [
        "# @title GDrive Mount\n",
        "drive.mount('/content/gdrive/', force_remount=True)\n",
        "gdrive_path = '/content/gdrive' + '/My Drive/ked/'\n",
        "os.chdir(gdrive_path)\n",
        "cwd = os.getcwd()\n",
        "files = os.listdir(cwd)\n",
        "print(\"Files in %r: %s\" % (cwd, files))"
      ],
      "metadata": {
        "id": "ZBZszK2CF1FG",
        "colab": {
          "base_uri": "https://localhost:8080/"
        },
        "outputId": "e9bf33f9-b192-49ee-9c4a-71bade95179a"
      },
      "execution_count": 2,
      "outputs": [
        {
          "output_type": "stream",
          "name": "stdout",
          "text": [
            "Mounted at /content/gdrive/\n",
            "Files in '/content/gdrive/My Drive/ked': ['augusta.csv', 'cleveland.csv', 'youngstown.csv', 'augusta_days.csv', 'augusta_.csv', 'logs.log']\n"
          ]
        }
      ]
    },
    {
      "cell_type": "code",
      "source": [
        "# @title Data Loading\n",
        "# Read csv to pandas\n",
        "data = pd.read_csv('youngstown.csv')\n",
        "# Change datetime format\n",
        "data['date'] = pd.to_datetime(data['date'], errors='coerce', format='%Y%m')\n",
        "# Keep only the year and month in the date\n",
        "data['date'] = data['date'].dt.to_period('M')\n",
        "# Set date as index for the dataset\n",
        "data.set_index('date', inplace=True)\n",
        "# Change column name to 'y' to avoid hard coding when changing features\n",
        "data = data.rename(columns={'total return donor': 'y'})\n",
        "# Drop any missing values\n",
        "data = data.dropna()\n",
        "# Split data into training and testing sets\n",
        "train_size = int(0.8 * len(data))\n",
        "# First 80% for training and last 20% for testing\n",
        "train_data, test_data = data[:train_size], data[train_size:]\n",
        "# Verify that the split is correct by checking the shapes and continuity\n",
        "print(f\"Training Data Shape: {train_data.shape}\")\n",
        "print(f\"Testing Data Shape: {test_data.shape}\")\n",
        "print(f\"Total Data Shape: {data.shape}\")\n",
        "print(f\"Training Set First Date: {train_data.index[0]}\")\n",
        "print(f\"Training Set Last Date: {train_data.index[-1]}\")\n",
        "print(f\"Test Set First Date: {test_data.index[0]}\")\n",
        "print(f\"Test Set Last Date: {test_data.index[-1]}\")\n",
        "print(f\"\\nSample Training Data (Raw):\\n\", train_data['y'].head())\n",
        "print(f\"\\nSample Test Data (Raw):\\n\", test_data['y'].head())"
      ],
      "metadata": {
        "id": "Xs62w4LvGJhI",
        "colab": {
          "base_uri": "https://localhost:8080/"
        },
        "outputId": "07e37cca-0aa6-4786-bf8b-0cc73810cb5c"
      },
      "execution_count": 3,
      "outputs": [
        {
          "output_type": "stream",
          "name": "stdout",
          "text": [
            "Training Data Shape: (48, 10)\n",
            "Testing Data Shape: (12, 10)\n",
            "Total Data Shape: (60, 10)\n",
            "Training Set First Date: 2019-01\n",
            "Training Set Last Date: 2022-12\n",
            "Test Set First Date: 2023-01\n",
            "Test Set Last Date: 2023-12\n",
            "\n",
            "Sample Training Data (Raw):\n",
            " date\n",
            "2019-01    584\n",
            "2019-02    605\n",
            "2019-03    579\n",
            "2019-04    582\n",
            "2019-05    623\n",
            "Freq: M, Name: y, dtype: int64\n",
            "\n",
            "Sample Test Data (Raw):\n",
            " date\n",
            "2023-01    687\n",
            "2023-02    664\n",
            "2023-03    718\n",
            "2023-04    720\n",
            "2023-05    757\n",
            "Freq: M, Name: y, dtype: int64\n"
          ]
        }
      ]
    },
    {
      "cell_type": "code",
      "source": [
        "# @title Available Features\n",
        "data.columns"
      ],
      "metadata": {
        "colab": {
          "base_uri": "https://localhost:8080/"
        },
        "id": "68aBD0gmf4oM",
        "outputId": "07ba0055-a4bf-4c2e-bec5-fc015ffae3ec"
      },
      "execution_count": 4,
      "outputs": [
        {
          "output_type": "execute_result",
          "data": {
            "text/plain": [
              "Index(['total donor', 'new donor', 'y', 'return donor', 'month donor',\n",
              "       'total unit', 'new unit', 'total return unit', 'return unit',\n",
              "       'month unit'],\n",
              "      dtype='object')"
            ]
          },
          "metadata": {},
          "execution_count": 4
        }
      ]
    },
    {
      "source": [
        "# @title Selected Feature Data\n",
        "train_data_plot = train_data.index.to_timestamp()\n",
        "test_data_plot = test_data.index.to_timestamp()\n",
        "# Create a figure\n",
        "fig = go.Figure()\n",
        "# Add training data as a line plot\n",
        "fig.add_trace(go.Scatter(x=train_data_plot, y=train_data['y'], mode='lines', name='Training Data'))\n",
        "# Add test data as a line plot\n",
        "fig.add_trace(go.Scatter(x=test_data_plot, y=test_data['y'], mode='lines', name='Test Data'))\n",
        "# Customize the layout\n",
        "fig.update_layout(\n",
        "    title='Selected Feature',\n",
        "    xaxis_title='Date',\n",
        "    yaxis_title='Volume',\n",
        "    showlegend=True,\n",
        "    hovermode='x',\n",
        "    plot_bgcolor='rgba(0,0,0,0)',  # Make background transparent\n",
        "    xaxis=dict(showgrid=True),\n",
        "    yaxis=dict(showgrid=True),\n",
        ")\n",
        "# Show the plot\n",
        "fig.show()"
      ],
      "cell_type": "code",
      "execution_count": 5,
      "outputs": [
        {
          "output_type": "display_data",
          "data": {
            "text/html": [
              "<html>\n",
              "<head><meta charset=\"utf-8\" /></head>\n",
              "<body>\n",
              "    <div>            <script src=\"https://cdnjs.cloudflare.com/ajax/libs/mathjax/2.7.5/MathJax.js?config=TeX-AMS-MML_SVG\"></script><script type=\"text/javascript\">if (window.MathJax && window.MathJax.Hub && window.MathJax.Hub.Config) {window.MathJax.Hub.Config({SVG: {font: \"STIX-Web\"}});}</script>                <script type=\"text/javascript\">window.PlotlyConfig = {MathJaxConfig: 'local'};</script>\n",
              "        <script charset=\"utf-8\" src=\"https://cdn.plot.ly/plotly-2.35.2.min.js\"></script>                <div id=\"4b724a26-8f91-4a27-8cd8-aafc39f6faa3\" class=\"plotly-graph-div\" style=\"height:525px; width:100%;\"></div>            <script type=\"text/javascript\">                                    window.PLOTLYENV=window.PLOTLYENV || {};                                    if (document.getElementById(\"4b724a26-8f91-4a27-8cd8-aafc39f6faa3\")) {                    Plotly.newPlot(                        \"4b724a26-8f91-4a27-8cd8-aafc39f6faa3\",                        [{\"mode\":\"lines\",\"name\":\"Training Data\",\"x\":[\"2019-01-01T00:00:00\",\"2019-02-01T00:00:00\",\"2019-03-01T00:00:00\",\"2019-04-01T00:00:00\",\"2019-05-01T00:00:00\",\"2019-06-01T00:00:00\",\"2019-07-01T00:00:00\",\"2019-08-01T00:00:00\",\"2019-09-01T00:00:00\",\"2019-10-01T00:00:00\",\"2019-11-01T00:00:00\",\"2019-12-01T00:00:00\",\"2020-01-01T00:00:00\",\"2020-02-01T00:00:00\",\"2020-03-01T00:00:00\",\"2020-04-01T00:00:00\",\"2020-05-01T00:00:00\",\"2020-06-01T00:00:00\",\"2020-07-01T00:00:00\",\"2020-08-01T00:00:00\",\"2020-09-01T00:00:00\",\"2020-10-01T00:00:00\",\"2020-11-01T00:00:00\",\"2020-12-01T00:00:00\",\"2021-01-01T00:00:00\",\"2021-02-01T00:00:00\",\"2021-03-01T00:00:00\",\"2021-04-01T00:00:00\",\"2021-05-01T00:00:00\",\"2021-06-01T00:00:00\",\"2021-07-01T00:00:00\",\"2021-08-01T00:00:00\",\"2021-09-01T00:00:00\",\"2021-10-01T00:00:00\",\"2021-11-01T00:00:00\",\"2021-12-01T00:00:00\",\"2022-01-01T00:00:00\",\"2022-02-01T00:00:00\",\"2022-03-01T00:00:00\",\"2022-04-01T00:00:00\",\"2022-05-01T00:00:00\",\"2022-06-01T00:00:00\",\"2022-07-01T00:00:00\",\"2022-08-01T00:00:00\",\"2022-09-01T00:00:00\",\"2022-10-01T00:00:00\",\"2022-11-01T00:00:00\",\"2022-12-01T00:00:00\"],\"y\":[584,605,579,582,623,637,648,643,641,694,692,723,740,730,634,486,430,431,439,450,489,522,554,564,528,514,458,411,439,443,456,459,451,499,462,413,454,470,509,507,519,551,556,541,551,565,613,651],\"type\":\"scatter\"},{\"mode\":\"lines\",\"name\":\"Test Data\",\"x\":[\"2023-01-01T00:00:00\",\"2023-02-01T00:00:00\",\"2023-03-01T00:00:00\",\"2023-04-01T00:00:00\",\"2023-05-01T00:00:00\",\"2023-06-01T00:00:00\",\"2023-07-01T00:00:00\",\"2023-08-01T00:00:00\",\"2023-09-01T00:00:00\",\"2023-10-01T00:00:00\",\"2023-11-01T00:00:00\",\"2023-12-01T00:00:00\"],\"y\":[687,664,718,720,757,741,731,709,632,582,527,491],\"type\":\"scatter\"}],                        {\"template\":{\"data\":{\"histogram2dcontour\":[{\"type\":\"histogram2dcontour\",\"colorbar\":{\"outlinewidth\":0,\"ticks\":\"\"},\"colorscale\":[[0.0,\"#0d0887\"],[0.1111111111111111,\"#46039f\"],[0.2222222222222222,\"#7201a8\"],[0.3333333333333333,\"#9c179e\"],[0.4444444444444444,\"#bd3786\"],[0.5555555555555556,\"#d8576b\"],[0.6666666666666666,\"#ed7953\"],[0.7777777777777778,\"#fb9f3a\"],[0.8888888888888888,\"#fdca26\"],[1.0,\"#f0f921\"]]}],\"choropleth\":[{\"type\":\"choropleth\",\"colorbar\":{\"outlinewidth\":0,\"ticks\":\"\"}}],\"histogram2d\":[{\"type\":\"histogram2d\",\"colorbar\":{\"outlinewidth\":0,\"ticks\":\"\"},\"colorscale\":[[0.0,\"#0d0887\"],[0.1111111111111111,\"#46039f\"],[0.2222222222222222,\"#7201a8\"],[0.3333333333333333,\"#9c179e\"],[0.4444444444444444,\"#bd3786\"],[0.5555555555555556,\"#d8576b\"],[0.6666666666666666,\"#ed7953\"],[0.7777777777777778,\"#fb9f3a\"],[0.8888888888888888,\"#fdca26\"],[1.0,\"#f0f921\"]]}],\"heatmap\":[{\"type\":\"heatmap\",\"colorbar\":{\"outlinewidth\":0,\"ticks\":\"\"},\"colorscale\":[[0.0,\"#0d0887\"],[0.1111111111111111,\"#46039f\"],[0.2222222222222222,\"#7201a8\"],[0.3333333333333333,\"#9c179e\"],[0.4444444444444444,\"#bd3786\"],[0.5555555555555556,\"#d8576b\"],[0.6666666666666666,\"#ed7953\"],[0.7777777777777778,\"#fb9f3a\"],[0.8888888888888888,\"#fdca26\"],[1.0,\"#f0f921\"]]}],\"heatmapgl\":[{\"type\":\"heatmapgl\",\"colorbar\":{\"outlinewidth\":0,\"ticks\":\"\"},\"colorscale\":[[0.0,\"#0d0887\"],[0.1111111111111111,\"#46039f\"],[0.2222222222222222,\"#7201a8\"],[0.3333333333333333,\"#9c179e\"],[0.4444444444444444,\"#bd3786\"],[0.5555555555555556,\"#d8576b\"],[0.6666666666666666,\"#ed7953\"],[0.7777777777777778,\"#fb9f3a\"],[0.8888888888888888,\"#fdca26\"],[1.0,\"#f0f921\"]]}],\"contourcarpet\":[{\"type\":\"contourcarpet\",\"colorbar\":{\"outlinewidth\":0,\"ticks\":\"\"}}],\"contour\":[{\"type\":\"contour\",\"colorbar\":{\"outlinewidth\":0,\"ticks\":\"\"},\"colorscale\":[[0.0,\"#0d0887\"],[0.1111111111111111,\"#46039f\"],[0.2222222222222222,\"#7201a8\"],[0.3333333333333333,\"#9c179e\"],[0.4444444444444444,\"#bd3786\"],[0.5555555555555556,\"#d8576b\"],[0.6666666666666666,\"#ed7953\"],[0.7777777777777778,\"#fb9f3a\"],[0.8888888888888888,\"#fdca26\"],[1.0,\"#f0f921\"]]}],\"surface\":[{\"type\":\"surface\",\"colorbar\":{\"outlinewidth\":0,\"ticks\":\"\"},\"colorscale\":[[0.0,\"#0d0887\"],[0.1111111111111111,\"#46039f\"],[0.2222222222222222,\"#7201a8\"],[0.3333333333333333,\"#9c179e\"],[0.4444444444444444,\"#bd3786\"],[0.5555555555555556,\"#d8576b\"],[0.6666666666666666,\"#ed7953\"],[0.7777777777777778,\"#fb9f3a\"],[0.8888888888888888,\"#fdca26\"],[1.0,\"#f0f921\"]]}],\"mesh3d\":[{\"type\":\"mesh3d\",\"colorbar\":{\"outlinewidth\":0,\"ticks\":\"\"}}],\"scatter\":[{\"fillpattern\":{\"fillmode\":\"overlay\",\"size\":10,\"solidity\":0.2},\"type\":\"scatter\"}],\"parcoords\":[{\"type\":\"parcoords\",\"line\":{\"colorbar\":{\"outlinewidth\":0,\"ticks\":\"\"}}}],\"scatterpolargl\":[{\"type\":\"scatterpolargl\",\"marker\":{\"colorbar\":{\"outlinewidth\":0,\"ticks\":\"\"}}}],\"bar\":[{\"error_x\":{\"color\":\"#2a3f5f\"},\"error_y\":{\"color\":\"#2a3f5f\"},\"marker\":{\"line\":{\"color\":\"#E5ECF6\",\"width\":0.5},\"pattern\":{\"fillmode\":\"overlay\",\"size\":10,\"solidity\":0.2}},\"type\":\"bar\"}],\"scattergeo\":[{\"type\":\"scattergeo\",\"marker\":{\"colorbar\":{\"outlinewidth\":0,\"ticks\":\"\"}}}],\"scatterpolar\":[{\"type\":\"scatterpolar\",\"marker\":{\"colorbar\":{\"outlinewidth\":0,\"ticks\":\"\"}}}],\"histogram\":[{\"marker\":{\"pattern\":{\"fillmode\":\"overlay\",\"size\":10,\"solidity\":0.2}},\"type\":\"histogram\"}],\"scattergl\":[{\"type\":\"scattergl\",\"marker\":{\"colorbar\":{\"outlinewidth\":0,\"ticks\":\"\"}}}],\"scatter3d\":[{\"type\":\"scatter3d\",\"line\":{\"colorbar\":{\"outlinewidth\":0,\"ticks\":\"\"}},\"marker\":{\"colorbar\":{\"outlinewidth\":0,\"ticks\":\"\"}}}],\"scattermapbox\":[{\"type\":\"scattermapbox\",\"marker\":{\"colorbar\":{\"outlinewidth\":0,\"ticks\":\"\"}}}],\"scatterternary\":[{\"type\":\"scatterternary\",\"marker\":{\"colorbar\":{\"outlinewidth\":0,\"ticks\":\"\"}}}],\"scattercarpet\":[{\"type\":\"scattercarpet\",\"marker\":{\"colorbar\":{\"outlinewidth\":0,\"ticks\":\"\"}}}],\"carpet\":[{\"aaxis\":{\"endlinecolor\":\"#2a3f5f\",\"gridcolor\":\"white\",\"linecolor\":\"white\",\"minorgridcolor\":\"white\",\"startlinecolor\":\"#2a3f5f\"},\"baxis\":{\"endlinecolor\":\"#2a3f5f\",\"gridcolor\":\"white\",\"linecolor\":\"white\",\"minorgridcolor\":\"white\",\"startlinecolor\":\"#2a3f5f\"},\"type\":\"carpet\"}],\"table\":[{\"cells\":{\"fill\":{\"color\":\"#EBF0F8\"},\"line\":{\"color\":\"white\"}},\"header\":{\"fill\":{\"color\":\"#C8D4E3\"},\"line\":{\"color\":\"white\"}},\"type\":\"table\"}],\"barpolar\":[{\"marker\":{\"line\":{\"color\":\"#E5ECF6\",\"width\":0.5},\"pattern\":{\"fillmode\":\"overlay\",\"size\":10,\"solidity\":0.2}},\"type\":\"barpolar\"}],\"pie\":[{\"automargin\":true,\"type\":\"pie\"}]},\"layout\":{\"autotypenumbers\":\"strict\",\"colorway\":[\"#636efa\",\"#EF553B\",\"#00cc96\",\"#ab63fa\",\"#FFA15A\",\"#19d3f3\",\"#FF6692\",\"#B6E880\",\"#FF97FF\",\"#FECB52\"],\"font\":{\"color\":\"#2a3f5f\"},\"hovermode\":\"closest\",\"hoverlabel\":{\"align\":\"left\"},\"paper_bgcolor\":\"white\",\"plot_bgcolor\":\"#E5ECF6\",\"polar\":{\"bgcolor\":\"#E5ECF6\",\"angularaxis\":{\"gridcolor\":\"white\",\"linecolor\":\"white\",\"ticks\":\"\"},\"radialaxis\":{\"gridcolor\":\"white\",\"linecolor\":\"white\",\"ticks\":\"\"}},\"ternary\":{\"bgcolor\":\"#E5ECF6\",\"aaxis\":{\"gridcolor\":\"white\",\"linecolor\":\"white\",\"ticks\":\"\"},\"baxis\":{\"gridcolor\":\"white\",\"linecolor\":\"white\",\"ticks\":\"\"},\"caxis\":{\"gridcolor\":\"white\",\"linecolor\":\"white\",\"ticks\":\"\"}},\"coloraxis\":{\"colorbar\":{\"outlinewidth\":0,\"ticks\":\"\"}},\"colorscale\":{\"sequential\":[[0.0,\"#0d0887\"],[0.1111111111111111,\"#46039f\"],[0.2222222222222222,\"#7201a8\"],[0.3333333333333333,\"#9c179e\"],[0.4444444444444444,\"#bd3786\"],[0.5555555555555556,\"#d8576b\"],[0.6666666666666666,\"#ed7953\"],[0.7777777777777778,\"#fb9f3a\"],[0.8888888888888888,\"#fdca26\"],[1.0,\"#f0f921\"]],\"sequentialminus\":[[0.0,\"#0d0887\"],[0.1111111111111111,\"#46039f\"],[0.2222222222222222,\"#7201a8\"],[0.3333333333333333,\"#9c179e\"],[0.4444444444444444,\"#bd3786\"],[0.5555555555555556,\"#d8576b\"],[0.6666666666666666,\"#ed7953\"],[0.7777777777777778,\"#fb9f3a\"],[0.8888888888888888,\"#fdca26\"],[1.0,\"#f0f921\"]],\"diverging\":[[0,\"#8e0152\"],[0.1,\"#c51b7d\"],[0.2,\"#de77ae\"],[0.3,\"#f1b6da\"],[0.4,\"#fde0ef\"],[0.5,\"#f7f7f7\"],[0.6,\"#e6f5d0\"],[0.7,\"#b8e186\"],[0.8,\"#7fbc41\"],[0.9,\"#4d9221\"],[1,\"#276419\"]]},\"xaxis\":{\"gridcolor\":\"white\",\"linecolor\":\"white\",\"ticks\":\"\",\"title\":{\"standoff\":15},\"zerolinecolor\":\"white\",\"automargin\":true,\"zerolinewidth\":2},\"yaxis\":{\"gridcolor\":\"white\",\"linecolor\":\"white\",\"ticks\":\"\",\"title\":{\"standoff\":15},\"zerolinecolor\":\"white\",\"automargin\":true,\"zerolinewidth\":2},\"scene\":{\"xaxis\":{\"backgroundcolor\":\"#E5ECF6\",\"gridcolor\":\"white\",\"linecolor\":\"white\",\"showbackground\":true,\"ticks\":\"\",\"zerolinecolor\":\"white\",\"gridwidth\":2},\"yaxis\":{\"backgroundcolor\":\"#E5ECF6\",\"gridcolor\":\"white\",\"linecolor\":\"white\",\"showbackground\":true,\"ticks\":\"\",\"zerolinecolor\":\"white\",\"gridwidth\":2},\"zaxis\":{\"backgroundcolor\":\"#E5ECF6\",\"gridcolor\":\"white\",\"linecolor\":\"white\",\"showbackground\":true,\"ticks\":\"\",\"zerolinecolor\":\"white\",\"gridwidth\":2}},\"shapedefaults\":{\"line\":{\"color\":\"#2a3f5f\"}},\"annotationdefaults\":{\"arrowcolor\":\"#2a3f5f\",\"arrowhead\":0,\"arrowwidth\":1},\"geo\":{\"bgcolor\":\"white\",\"landcolor\":\"#E5ECF6\",\"subunitcolor\":\"white\",\"showland\":true,\"showlakes\":true,\"lakecolor\":\"white\"},\"title\":{\"x\":0.05},\"mapbox\":{\"style\":\"light\"}}},\"xaxis\":{\"title\":{\"text\":\"Date\"},\"showgrid\":true},\"yaxis\":{\"title\":{\"text\":\"Volume\"},\"showgrid\":true},\"title\":{\"text\":\"Selected Feature\"},\"showlegend\":true,\"hovermode\":\"x\",\"plot_bgcolor\":\"rgba(0,0,0,0)\"},                        {\"responsive\": true}                    ).then(function(){\n",
              "                            \n",
              "var gd = document.getElementById('4b724a26-8f91-4a27-8cd8-aafc39f6faa3');\n",
              "var x = new MutationObserver(function (mutations, observer) {{\n",
              "        var display = window.getComputedStyle(gd).display;\n",
              "        if (!display || display === 'none') {{\n",
              "            console.log([gd, 'removed!']);\n",
              "            Plotly.purge(gd);\n",
              "            observer.disconnect();\n",
              "        }}\n",
              "}});\n",
              "\n",
              "// Listen for the removal of the full notebook cells\n",
              "var notebookContainer = gd.closest('#notebook-container');\n",
              "if (notebookContainer) {{\n",
              "    x.observe(notebookContainer, {childList: true});\n",
              "}}\n",
              "\n",
              "// Listen for the clearing of the current output cell\n",
              "var outputEl = gd.closest('.output');\n",
              "if (outputEl) {{\n",
              "    x.observe(outputEl, {childList: true});\n",
              "}}\n",
              "\n",
              "                        })                };                            </script>        </div>\n",
              "</body>\n",
              "</html>"
            ]
          },
          "metadata": {}
        }
      ],
      "metadata": {
        "colab": {
          "base_uri": "https://localhost:8080/",
          "height": 542
        },
        "id": "GIoJIG6z6ztB",
        "outputId": "bf66b764-36f7-427c-f5d2-5c707370aa91"
      }
    },
    {
      "cell_type": "code",
      "source": [
        "# @title Holt-Winters Exponential Smoothing\n",
        "# Exponential smoothing refers to the use of an exponentially weighted moving average to “smooth” a time series.\n",
        "hw_model = ExponentialSmoothing(\n",
        "                          train_data['y'],\n",
        "                          seasonal='add',\n",
        "                          seasonal_periods=12\n",
        "                          ).fit()\n",
        "train_data['y'] = hw_model.fittedvalues\n",
        "print(f\"\\nSample Training Data (Smoothed):\\n\", train_data['y'].head())\n",
        "print(f\"\\nSample Test Data (Raw):\\n\", test_data['y'].head())"
      ],
      "metadata": {
        "colab": {
          "base_uri": "https://localhost:8080/"
        },
        "id": "RXGQwcVy_ofR",
        "outputId": "2cc910c6-5359-4010-92b7-2bc07c1caf06"
      },
      "execution_count": 6,
      "outputs": [
        {
          "output_type": "stream",
          "name": "stdout",
          "text": [
            "\n",
            "Sample Training Data (Smoothed):\n",
            " date\n",
            "2019-01    583.773946\n",
            "2019-02    585.703406\n",
            "2019-03    568.797577\n",
            "2019-04    529.093887\n",
            "2019-05    586.262816\n",
            "Freq: M, Name: y, dtype: float64\n",
            "\n",
            "Sample Test Data (Raw):\n",
            " date\n",
            "2023-01    687\n",
            "2023-02    664\n",
            "2023-03    718\n",
            "2023-04    720\n",
            "2023-05    757\n",
            "Freq: M, Name: y, dtype: int64\n"
          ]
        }
      ]
    },
    {
      "cell_type": "code",
      "source": [
        "# @title Calculate ACF and PACF\n",
        "# (ACF) The Autocorrelation Function describes the correlation between observations\n",
        "# of a time series at two points in time, separated by a specific lag k.\n",
        "# Essentially, it quantifies how a value in the time series is related to its previous values.\n",
        "# (PACF) While the ACF measures the correlation between two points with a given lag,\n",
        "# it doesn’t account for the influence of other intervening observations.\n",
        "# The PACF remedies this by measuring the correlation between two points,\n",
        "# controlling for the values at all shorter lags.\n",
        "# Set the number of lags to check\n",
        "nlags = 6\n",
        "# ACF\n",
        "acf_values, confint_acf = acf(train_data['y'], alpha=0.05, nlags=nlags)\n",
        "# PACF\n",
        "pacf_values, confint_pacf = pacf(train_data['y'], alpha=0.05, nlags=nlags)\n",
        "# Plot ACF and PACF\n",
        "plt.figure(figsize=(12, 6))\n",
        "# Plot ACF\n",
        "plt.subplot(211)\n",
        "plot_acf(train_data['y'], ax=plt.gca(), lags=nlags)\n",
        "plt.title('ACF for Smoothed Training Data')\n",
        "# Plot PACF\n",
        "plt.subplot(212)\n",
        "plot_pacf(train_data['y'], ax=plt.gca(), lags=nlags)\n",
        "plt.title('PACF for Smoothed Training Data')\n",
        "# Show\n",
        "plt.tight_layout()\n",
        "plt.show()\n",
        "# Find recommended lags programmatically\n",
        "# Find the first lag where the ACF value is within the confidence interval (for MA term)\n",
        "upper_confidence_bound_acf = confint_acf[:, 1]\n",
        "recommended_ma_lag = np.where(acf_values < upper_confidence_bound_acf)[0][0]\n",
        "# Find the first lag where the PACF value is within the confidence interval (for AR term)\n",
        "upper_confidence_bound_pacf = confint_pacf[:, 1]\n",
        "recommended_ar_lag = np.where(pacf_values < upper_confidence_bound_pacf)[0][0]\n",
        "print(f\"Recommended Moving Average (MA) Lag (from ACF): {recommended_ma_lag}\")\n",
        "print(f\"Recommended Autoregressive (AR) Lag (from PACF): {recommended_ar_lag}\")"
      ],
      "metadata": {
        "colab": {
          "base_uri": "https://localhost:8080/",
          "height": 643
        },
        "id": "APJgz0cU_oUV",
        "outputId": "814c32ca-68dc-4cb6-8830-32a6d480af8b"
      },
      "execution_count": 7,
      "outputs": [
        {
          "output_type": "display_data",
          "data": {
            "text/plain": [
              "<Figure size 1200x600 with 2 Axes>"
            ],
            "image/png": "[encoded data removed]"
          },
          "metadata": {}
        },
        {
          "output_type": "stream",
          "name": "stdout",
          "text": [
            "Recommended Moving Average (MA) Lag (from ACF): 1\n",
            "Recommended Autoregressive (AR) Lag (from PACF): 1\n"
          ]
        }
      ]
    },
    {
      "cell_type": "code",
      "source": [
        "# @title Scaling Training and Test Data\n",
        "def scale_data(train_data, test_data):\n",
        "    scaler = MinMaxScaler()\n",
        "    train_scaled = scaler.fit_transform(train_data.values.reshape(-1, 1))\n",
        "    test_scaled = scaler.transform(test_data.values.reshape(-1, 1))\n",
        "    return train_scaled, test_scaled\n",
        "train_data['y'], test_data['y'] = scale_data(train_data['y'], test_data['y'])\n",
        "# Metrics\n",
        "print(f\"Training Data Shape: {train_data.shape}\")\n",
        "print(f\"Testing Data Shape: {test_data.shape}\")\n",
        "print(f\"\\nSample Training Data (Scaled):\\n\", train_data['y'].head())\n",
        "print(f\"\\nSample Test Data (Scaled):\\n\", test_data['y'].head())\n",
        "# Convert scaled data back to DataFrame for SARIMA\n",
        "train_data_scaled = pd.DataFrame(train_data['y'], index=train_data.index, columns=['y'])\n",
        "test_data_scaled = pd.DataFrame(test_data['y'], index=test_data.index, columns=['y'])\n",
        "# Combine scaled train and test data\n",
        "data_scaled = pd.concat([train_data_scaled, test_data_scaled])"
      ],
      "metadata": {
        "colab": {
          "base_uri": "https://localhost:8080/"
        },
        "id": "Ug_YKSbxG8s5",
        "outputId": "9e361afa-51dd-4542-ca33-33bf815da36a"
      },
      "execution_count": 8,
      "outputs": [
        {
          "output_type": "stream",
          "name": "stdout",
          "text": [
            "Training Data Shape: (48, 10)\n",
            "Testing Data Shape: (12, 10)\n",
            "\n",
            "Sample Training Data (Scaled):\n",
            " date\n",
            "2019-01    0.526484\n",
            "2019-02    0.532271\n",
            "2019-03    0.481564\n",
            "2019-04    0.362479\n",
            "2019-05    0.533949\n",
            "Freq: M, Name: y, dtype: float64\n",
            "\n",
            "Sample Test Data (Scaled):\n",
            " date\n",
            "2023-01    0.836095\n",
            "2023-02    0.767110\n",
            "2023-03    0.929075\n",
            "2023-04    0.935073\n",
            "2023-05    1.046049\n",
            "Freq: M, Name: y, dtype: float64\n"
          ]
        }
      ]
    },
    {
      "cell_type": "code",
      "source": [
        "# @title SARIMA Model\n",
        "# SARIMA model fitting and forecasting\n",
        "def model_sarima(train_data, step_size, p, d, q, P, D, Q, s):\n",
        "    model = SARIMAX(train_data, order=(p, d, q), seasonal_order=(P, D, Q, s))\n",
        "    model_fit = model.fit(disp=False)\n",
        "    prediction = model_fit.forecast(steps=step_size)\n",
        "    return prediction, model_fit\n",
        "# Cross-validation for SARIMA\n",
        "def sarima(data, feature_name, initial_window_size, step_size, p, d, q, P, D, Q, s):\n",
        "    window_size = initial_window_size\n",
        "    predictions = pd.Series(dtype='float64', index=data.index)\n",
        "    # Sliding window approach for time series cross-validation\n",
        "    while window_size + step_size <= len(data):\n",
        "        train_data = data[feature_name][:window_size]\n",
        "        test_data = data[feature_name][window_size:window_size + step_size]\n",
        "        # prediction\n",
        "        prediction, model_fit = model_sarima(train_data, step_size, p, d, q, P, D, Q, s)\n",
        "        prediction.index = test_data.index\n",
        "        predictions[test_data.index] = prediction\n",
        "        window_size += step_size\n",
        "    return data[feature_name][initial_window_size:], predictions[initial_window_size:], model_fit"
      ],
      "metadata": {
        "id": "NJVBsDMfVsCo"
      },
      "execution_count": 9,
      "outputs": []
    },
    {
      "cell_type": "code",
      "source": [
        "# @title Model Evaluation\n",
        "parameter_sets = [\n",
        "    # {'p': 1, 'd': 0, 'q': 0, 'P': 1, 'D': 0, 'Q': 0, 's': 12},\n",
        "    # {'p': 1, 'd': 1, 'q': 1, 'P': 1, 'D': 0, 'Q': 1, 's': 12},\n",
        "    # {'p': 1, 'd': 1, 'q': 0, 'P': 1, 'D': 1, 'Q': 0, 's': 12},\n",
        "    {'p': 1, 'd': 1, 'q': 0, 'P': 1, 'D': 0, 'Q': 0, 's': 12},\n",
        "    # {'p': 1, 'd': 0, 'q': 1, 'P': 1, 'D': 0, 'Q': 1, 's': 12},\n",
        "    # {'p': 1, 'd': 0, 'q': 0, 'P': 1, 'D': 1, 'Q': 0, 's': 12},\n",
        "    # {'p': 2, 'd': 0, 'q': 0, 'P': 2, 'D': 0, 'Q': 0, 's': 12},\n",
        "    # {'p': 2, 'd': 1, 'q': 0, 'P': 1, 'D': 0, 'Q': 0, 's': 12},\n",
        "    # {'p': 2, 'd': 1, 'q': 0, 'P': 1, 'D': 1, 'Q': 0, 's': 12},\n",
        "    # {'p': 2, 'd': 1, 'q': 0, 'P': 2, 'D': 1, 'Q': 0, 's': 12},\n",
        "]\n",
        "# Cross-validation: Test different parameter sets and plot results\n",
        "for params in parameter_sets:\n",
        "    test, forecast, model = sarima(\n",
        "        data_scaled,\n",
        "        'y',\n",
        "        initial_window_size=48,\n",
        "        step_size=1,\n",
        "        p=params['p'],\n",
        "        d=params['d'],\n",
        "        q=params['q'],\n",
        "        P=params['P'],\n",
        "        D=params['D'],\n",
        "        Q=params['Q'],\n",
        "        s=params['s']\n",
        "    )\n",
        "    # Remove any NaN values in test and forecast\n",
        "    test = test.dropna()\n",
        "    forecast = forecast.dropna()\n",
        "    # Align the indices of the test and forecast data\n",
        "    test, forecast = test.align(forecast, join='inner')\n",
        "    # Print params\n",
        "    print(f\"Params: {params}\")\n",
        "    # Check if test or forecast is empty\n",
        "    if test.empty or forecast.empty:\n",
        "        print(\"Test or forecast data is empty after aligning indices.\")\n",
        "        continue\n",
        "    # Calculate evaluation metrics\n",
        "    def mean_absolute_percentage_error(y_true, y_pred):\n",
        "        return np.mean(np.abs((y_true - y_pred) / y_true)) * 100\n",
        "    bic = model.bic  # Extract the BIC from the fitted SARIMA model\n",
        "    mse = mean_squared_error(test, forecast)\n",
        "    mae = mean_absolute_error(test, forecast)\n",
        "    r2 = r2_score(test, forecast)\n",
        "    rmse = np.sqrt(mse)\n",
        "    mape = mean_absolute_percentage_error(test, forecast)\n",
        "    msle = mean_squared_log_error(test, forecast)\n",
        "    residuals = test - forecast\n",
        "    lb_test = acorr_ljungbox(residuals, lags=[6], return_df=True)['lb_pvalue'].values[0]\n",
        "    # Print metrics\n",
        "    # Average magnitude of errors in predictions, without considering their direction\n",
        "    print(f'MAE: {mae}') # Indicates average absolute error\n",
        "    # Average difference between a statistical model's predicted values and the actual values\n",
        "    print(f'RMSE: {rmse}') # Penalizes large errors more\n",
        "    # Prediction accuracy of a forecasting method in statistics\n",
        "    print(f'MAPE: {mape}') # Useful to report the error in percentage terms\n",
        "    # Coefficient of determination, the proportion of variance in a dependent variable that can be predicted or explained by an independent variable\n",
        "    print(f'R²: {r2}') # For explaining how much variance the model captures\n",
        "    # Bayesian Information Criterion: evaluates how well the model fits the data relative to its complexity\n",
        "    print(f'BIC: {bic}') # For balancing fit vs. complexity\n",
        "    # Average of the squares of the errors\n",
        "    print(f'MSE: {mse}')\n",
        "    # Average of the squared differences between the logarithms of the predicted and actual values\n",
        "    print(f'MSLE: {msle}')\n",
        "    # High p-value (> 0.05): No significant autocorrelation in residuals, meaning the model is good at capturing the data structure\n",
        "    print(f'Ljung-Box Test p-value: {lb_test}\\n') # To confirm the residuals have no significant autocorrelation\n",
        "    # Interactive Plot using Plotly\n",
        "    training_data = data_scaled['y'][:train_size]\n",
        "    testing_data = test\n",
        "    forecast_data = forecast\n",
        "    train_idx = train_data.index.to_timestamp()\n",
        "    test_idx = test_data.index.to_timestamp()\n",
        "    forecast_idx = test_data.index.to_timestamp()\n",
        "    # Plot using Plotly\n",
        "    fig = go.Figure()\n",
        "    # Training data\n",
        "    fig.add_trace(go.Scatter(x=train_idx, y=training_data, mode='lines', name='Training Data'))\n",
        "    # Testing data\n",
        "    fig.add_trace(go.Scatter(x=test_idx, y=testing_data, mode='lines', name='Testing Data'))\n",
        "    # Forecast data\n",
        "    fig.add_trace(go.Scatter(x=forecast_idx, y=forecast_data, mode='lines', name='Forecast'))\n",
        "    # Add titles and labels\n",
        "    fig.update_layout(\n",
        "        title=f\"SARIMA Forecast vs Actual (Params: {params})\",\n",
        "        xaxis_title='Date',\n",
        "        yaxis_title='Scaled Values',\n",
        "        legend_title='Legend',\n",
        "        hovermode='x'\n",
        "    )\n",
        "    # Show the interactive plot\n",
        "    fig.show()"
      ],
      "metadata": {
        "colab": {
          "base_uri": "https://localhost:8080/",
          "height": 721
        },
        "id": "FRVpZ8z3G8dQ",
        "outputId": "e0339c29-96a2-4f73-f813-886b88f124ed"
      },
      "execution_count": 10,
      "outputs": [
        {
          "output_type": "stream",
          "name": "stdout",
          "text": [
            "Params: {'p': 1, 'd': 1, 'q': 0, 'P': 1, 'D': 0, 'Q': 0, 's': 12}\n",
            "MAE: 0.09901957925145483\n",
            "RMSE: 0.11753534072124164\n",
            "MAPE: 13.865613911651856\n",
            "R²: 0.7809193446638112\n",
            "BIC: -84.98904720282565\n",
            "MSE: 0.013814556318458364\n",
            "MSLE: 0.004318964415898134\n",
            "Ljung-Box Test p-value: 0.10306198047908567\n",
            "\n"
          ]
        },
        {
          "output_type": "display_data",
          "data": {
            "text/html": [
              "<html>\n",
              "<head><meta charset=\"utf-8\" /></head>\n",
              "<body>\n",
              "    <div>            <script src=\"https://cdnjs.cloudflare.com/ajax/libs/mathjax/2.7.5/MathJax.js?config=TeX-AMS-MML_SVG\"></script><script type=\"text/javascript\">if (window.MathJax && window.MathJax.Hub && window.MathJax.Hub.Config) {window.MathJax.Hub.Config({SVG: {font: \"STIX-Web\"}});}</script>                <script type=\"text/javascript\">window.PlotlyConfig = {MathJaxConfig: 'local'};</script>\n",
              "        <script charset=\"utf-8\" src=\"https://cdn.plot.ly/plotly-2.35.2.min.js\"></script>                <div id=\"be3aa679-a895-4f13-a060-da654ddda642\" class=\"plotly-graph-div\" style=\"height:525px; width:100%;\"></div>            <script type=\"text/javascript\">                                    window.PLOTLYENV=window.PLOTLYENV || {};                                    if (document.getElementById(\"be3aa679-a895-4f13-a060-da654ddda642\")) {                    Plotly.newPlot(                        \"be3aa679-a895-4f13-a060-da654ddda642\",                        [{\"mode\":\"lines\",\"name\":\"Training Data\",\"x\":[\"2019-01-01T00:00:00\",\"2019-02-01T00:00:00\",\"2019-03-01T00:00:00\",\"2019-04-01T00:00:00\",\"2019-05-01T00:00:00\",\"2019-06-01T00:00:00\",\"2019-07-01T00:00:00\",\"2019-08-01T00:00:00\",\"2019-09-01T00:00:00\",\"2019-10-01T00:00:00\",\"2019-11-01T00:00:00\",\"2019-12-01T00:00:00\",\"2020-01-01T00:00:00\",\"2020-02-01T00:00:00\",\"2020-03-01T00:00:00\",\"2020-04-01T00:00:00\",\"2020-05-01T00:00:00\",\"2020-06-01T00:00:00\",\"2020-07-01T00:00:00\",\"2020-08-01T00:00:00\",\"2020-09-01T00:00:00\",\"2020-10-01T00:00:00\",\"2020-11-01T00:00:00\",\"2020-12-01T00:00:00\",\"2021-01-01T00:00:00\",\"2021-02-01T00:00:00\",\"2021-03-01T00:00:00\",\"2021-04-01T00:00:00\",\"2021-05-01T00:00:00\",\"2021-06-01T00:00:00\",\"2021-07-01T00:00:00\",\"2021-08-01T00:00:00\",\"2021-09-01T00:00:00\",\"2021-10-01T00:00:00\",\"2021-11-01T00:00:00\",\"2021-12-01T00:00:00\",\"2022-01-01T00:00:00\",\"2022-02-01T00:00:00\",\"2022-03-01T00:00:00\",\"2022-04-01T00:00:00\",\"2022-05-01T00:00:00\",\"2022-06-01T00:00:00\",\"2022-07-01T00:00:00\",\"2022-08-01T00:00:00\",\"2022-09-01T00:00:00\",\"2022-10-01T00:00:00\",\"2022-11-01T00:00:00\",\"2022-12-01T00:00:00\"],\"y\":[0.526483566432483,0.5322706967228896,0.4815641636741588,0.3624788177609395,0.5339485646860842,0.6756065525282542,0.7095820762398615,0.7125157744534305,0.730454140261803,0.8034124770606303,0.8822007192301333,0.8688494654995931,0.9595107231987554,1.0,0.8569366479906044,0.5284743018564477,0.24823004884624877,0.09816373879736062,0.0919132278475856,0.08569586835113596,0.15134431076290933,0.3469097647934063,0.3666012289764349,0.4544432565443668,0.4829187237751005,0.36491516669679847,0.2091367348802038,0.0,0.021796001371183094,0.12392092661206622,0.12785588433749484,0.1366118992826324,0.1784563035973865,0.2336228475091522,0.2974006929331703,0.17951303969033705,0.030884767725425588,0.14183906678829494,0.07671947660626355,0.15157231788862147,0.3090678793428041,0.3640990887936193,0.4513768692936533,0.43666246592623525,0.42466672108087145,0.5332967374842981,0.4958525816189914,0.6311702889304187],\"type\":\"scatter\"},{\"mode\":\"lines\",\"name\":\"Testing Data\",\"x\":[\"2023-01-01T00:00:00\",\"2023-02-01T00:00:00\",\"2023-03-01T00:00:00\",\"2023-04-01T00:00:00\",\"2023-05-01T00:00:00\",\"2023-06-01T00:00:00\",\"2023-07-01T00:00:00\",\"2023-08-01T00:00:00\",\"2023-09-01T00:00:00\",\"2023-10-01T00:00:00\",\"2023-11-01T00:00:00\",\"2023-12-01T00:00:00\"],\"y\":[0.8360948493506744,0.7671097508497109,0.929074764721538,0.9350734689390134,1.0460494969623024,0.998059863222502,0.9680663421351263,0.9020805957429006,0.6711304833701095,0.5211628779332325,0.3561985119526676,0.24822183603811587],\"type\":\"scatter\"},{\"mode\":\"lines\",\"name\":\"Forecast\",\"x\":[\"2023-01-01T00:00:00\",\"2023-02-01T00:00:00\",\"2023-03-01T00:00:00\",\"2023-04-01T00:00:00\",\"2023-05-01T00:00:00\",\"2023-06-01T00:00:00\",\"2023-07-01T00:00:00\",\"2023-08-01T00:00:00\",\"2023-09-01T00:00:00\",\"2023-10-01T00:00:00\",\"2023-11-01T00:00:00\",\"2023-12-01T00:00:00\"],\"y\":[0.6934819061172337,0.926401831989334,0.7487117177275043,0.9848017606247867,0.9176323024899427,1.0948636547828179,0.9710788259922365,0.9616939936164561,0.8758404230836316,0.5596847352477798,0.46574200811975286,0.2638382630442066],\"type\":\"scatter\"}],                        {\"template\":{\"data\":{\"histogram2dcontour\":[{\"type\":\"histogram2dcontour\",\"colorbar\":{\"outlinewidth\":0,\"ticks\":\"\"},\"colorscale\":[[0.0,\"#0d0887\"],[0.1111111111111111,\"#46039f\"],[0.2222222222222222,\"#7201a8\"],[0.3333333333333333,\"#9c179e\"],[0.4444444444444444,\"#bd3786\"],[0.5555555555555556,\"#d8576b\"],[0.6666666666666666,\"#ed7953\"],[0.7777777777777778,\"#fb9f3a\"],[0.8888888888888888,\"#fdca26\"],[1.0,\"#f0f921\"]]}],\"choropleth\":[{\"type\":\"choropleth\",\"colorbar\":{\"outlinewidth\":0,\"ticks\":\"\"}}],\"histogram2d\":[{\"type\":\"histogram2d\",\"colorbar\":{\"outlinewidth\":0,\"ticks\":\"\"},\"colorscale\":[[0.0,\"#0d0887\"],[0.1111111111111111,\"#46039f\"],[0.2222222222222222,\"#7201a8\"],[0.3333333333333333,\"#9c179e\"],[0.4444444444444444,\"#bd3786\"],[0.5555555555555556,\"#d8576b\"],[0.6666666666666666,\"#ed7953\"],[0.7777777777777778,\"#fb9f3a\"],[0.8888888888888888,\"#fdca26\"],[1.0,\"#f0f921\"]]}],\"heatmap\":[{\"type\":\"heatmap\",\"colorbar\":{\"outlinewidth\":0,\"ticks\":\"\"},\"colorscale\":[[0.0,\"#0d0887\"],[0.1111111111111111,\"#46039f\"],[0.2222222222222222,\"#7201a8\"],[0.3333333333333333,\"#9c179e\"],[0.4444444444444444,\"#bd3786\"],[0.5555555555555556,\"#d8576b\"],[0.6666666666666666,\"#ed7953\"],[0.7777777777777778,\"#fb9f3a\"],[0.8888888888888888,\"#fdca26\"],[1.0,\"#f0f921\"]]}],\"heatmapgl\":[{\"type\":\"heatmapgl\",\"colorbar\":{\"outlinewidth\":0,\"ticks\":\"\"},\"colorscale\":[[0.0,\"#0d0887\"],[0.1111111111111111,\"#46039f\"],[0.2222222222222222,\"#7201a8\"],[0.3333333333333333,\"#9c179e\"],[0.4444444444444444,\"#bd3786\"],[0.5555555555555556,\"#d8576b\"],[0.6666666666666666,\"#ed7953\"],[0.7777777777777778,\"#fb9f3a\"],[0.8888888888888888,\"#fdca26\"],[1.0,\"#f0f921\"]]}],\"contourcarpet\":[{\"type\":\"contourcarpet\",\"colorbar\":{\"outlinewidth\":0,\"ticks\":\"\"}}],\"contour\":[{\"type\":\"contour\",\"colorbar\":{\"outlinewidth\":0,\"ticks\":\"\"},\"colorscale\":[[0.0,\"#0d0887\"],[0.1111111111111111,\"#46039f\"],[0.2222222222222222,\"#7201a8\"],[0.3333333333333333,\"#9c179e\"],[0.4444444444444444,\"#bd3786\"],[0.5555555555555556,\"#d8576b\"],[0.6666666666666666,\"#ed7953\"],[0.7777777777777778,\"#fb9f3a\"],[0.8888888888888888,\"#fdca26\"],[1.0,\"#f0f921\"]]}],\"surface\":[{\"type\":\"surface\",\"colorbar\":{\"outlinewidth\":0,\"ticks\":\"\"},\"colorscale\":[[0.0,\"#0d0887\"],[0.1111111111111111,\"#46039f\"],[0.2222222222222222,\"#7201a8\"],[0.3333333333333333,\"#9c179e\"],[0.4444444444444444,\"#bd3786\"],[0.5555555555555556,\"#d8576b\"],[0.6666666666666666,\"#ed7953\"],[0.7777777777777778,\"#fb9f3a\"],[0.8888888888888888,\"#fdca26\"],[1.0,\"#f0f921\"]]}],\"mesh3d\":[{\"type\":\"mesh3d\",\"colorbar\":{\"outlinewidth\":0,\"ticks\":\"\"}}],\"scatter\":[{\"fillpattern\":{\"fillmode\":\"overlay\",\"size\":10,\"solidity\":0.2},\"type\":\"scatter\"}],\"parcoords\":[{\"type\":\"parcoords\",\"line\":{\"colorbar\":{\"outlinewidth\":0,\"ticks\":\"\"}}}],\"scatterpolargl\":[{\"type\":\"scatterpolargl\",\"marker\":{\"colorbar\":{\"outlinewidth\":0,\"ticks\":\"\"}}}],\"bar\":[{\"error_x\":{\"color\":\"#2a3f5f\"},\"error_y\":{\"color\":\"#2a3f5f\"},\"marker\":{\"line\":{\"color\":\"#E5ECF6\",\"width\":0.5},\"pattern\":{\"fillmode\":\"overlay\",\"size\":10,\"solidity\":0.2}},\"type\":\"bar\"}],\"scattergeo\":[{\"type\":\"scattergeo\",\"marker\":{\"colorbar\":{\"outlinewidth\":0,\"ticks\":\"\"}}}],\"scatterpolar\":[{\"type\":\"scatterpolar\",\"marker\":{\"colorbar\":{\"outlinewidth\":0,\"ticks\":\"\"}}}],\"histogram\":[{\"marker\":{\"pattern\":{\"fillmode\":\"overlay\",\"size\":10,\"solidity\":0.2}},\"type\":\"histogram\"}],\"scattergl\":[{\"type\":\"scattergl\",\"marker\":{\"colorbar\":{\"outlinewidth\":0,\"ticks\":\"\"}}}],\"scatter3d\":[{\"type\":\"scatter3d\",\"line\":{\"colorbar\":{\"outlinewidth\":0,\"ticks\":\"\"}},\"marker\":{\"colorbar\":{\"outlinewidth\":0,\"ticks\":\"\"}}}],\"scattermapbox\":[{\"type\":\"scattermapbox\",\"marker\":{\"colorbar\":{\"outlinewidth\":0,\"ticks\":\"\"}}}],\"scatterternary\":[{\"type\":\"scatterternary\",\"marker\":{\"colorbar\":{\"outlinewidth\":0,\"ticks\":\"\"}}}],\"scattercarpet\":[{\"type\":\"scattercarpet\",\"marker\":{\"colorbar\":{\"outlinewidth\":0,\"ticks\":\"\"}}}],\"carpet\":[{\"aaxis\":{\"endlinecolor\":\"#2a3f5f\",\"gridcolor\":\"white\",\"linecolor\":\"white\",\"minorgridcolor\":\"white\",\"startlinecolor\":\"#2a3f5f\"},\"baxis\":{\"endlinecolor\":\"#2a3f5f\",\"gridcolor\":\"white\",\"linecolor\":\"white\",\"minorgridcolor\":\"white\",\"startlinecolor\":\"#2a3f5f\"},\"type\":\"carpet\"}],\"table\":[{\"cells\":{\"fill\":{\"color\":\"#EBF0F8\"},\"line\":{\"color\":\"white\"}},\"header\":{\"fill\":{\"color\":\"#C8D4E3\"},\"line\":{\"color\":\"white\"}},\"type\":\"table\"}],\"barpolar\":[{\"marker\":{\"line\":{\"color\":\"#E5ECF6\",\"width\":0.5},\"pattern\":{\"fillmode\":\"overlay\",\"size\":10,\"solidity\":0.2}},\"type\":\"barpolar\"}],\"pie\":[{\"automargin\":true,\"type\":\"pie\"}]},\"layout\":{\"autotypenumbers\":\"strict\",\"colorway\":[\"#636efa\",\"#EF553B\",\"#00cc96\",\"#ab63fa\",\"#FFA15A\",\"#19d3f3\",\"#FF6692\",\"#B6E880\",\"#FF97FF\",\"#FECB52\"],\"font\":{\"color\":\"#2a3f5f\"},\"hovermode\":\"closest\",\"hoverlabel\":{\"align\":\"left\"},\"paper_bgcolor\":\"white\",\"plot_bgcolor\":\"#E5ECF6\",\"polar\":{\"bgcolor\":\"#E5ECF6\",\"angularaxis\":{\"gridcolor\":\"white\",\"linecolor\":\"white\",\"ticks\":\"\"},\"radialaxis\":{\"gridcolor\":\"white\",\"linecolor\":\"white\",\"ticks\":\"\"}},\"ternary\":{\"bgcolor\":\"#E5ECF6\",\"aaxis\":{\"gridcolor\":\"white\",\"linecolor\":\"white\",\"ticks\":\"\"},\"baxis\":{\"gridcolor\":\"white\",\"linecolor\":\"white\",\"ticks\":\"\"},\"caxis\":{\"gridcolor\":\"white\",\"linecolor\":\"white\",\"ticks\":\"\"}},\"coloraxis\":{\"colorbar\":{\"outlinewidth\":0,\"ticks\":\"\"}},\"colorscale\":{\"sequential\":[[0.0,\"#0d0887\"],[0.1111111111111111,\"#46039f\"],[0.2222222222222222,\"#7201a8\"],[0.3333333333333333,\"#9c179e\"],[0.4444444444444444,\"#bd3786\"],[0.5555555555555556,\"#d8576b\"],[0.6666666666666666,\"#ed7953\"],[0.7777777777777778,\"#fb9f3a\"],[0.8888888888888888,\"#fdca26\"],[1.0,\"#f0f921\"]],\"sequentialminus\":[[0.0,\"#0d0887\"],[0.1111111111111111,\"#46039f\"],[0.2222222222222222,\"#7201a8\"],[0.3333333333333333,\"#9c179e\"],[0.4444444444444444,\"#bd3786\"],[0.5555555555555556,\"#d8576b\"],[0.6666666666666666,\"#ed7953\"],[0.7777777777777778,\"#fb9f3a\"],[0.8888888888888888,\"#fdca26\"],[1.0,\"#f0f921\"]],\"diverging\":[[0,\"#8e0152\"],[0.1,\"#c51b7d\"],[0.2,\"#de77ae\"],[0.3,\"#f1b6da\"],[0.4,\"#fde0ef\"],[0.5,\"#f7f7f7\"],[0.6,\"#e6f5d0\"],[0.7,\"#b8e186\"],[0.8,\"#7fbc41\"],[0.9,\"#4d9221\"],[1,\"#276419\"]]},\"xaxis\":{\"gridcolor\":\"white\",\"linecolor\":\"white\",\"ticks\":\"\",\"title\":{\"standoff\":15},\"zerolinecolor\":\"white\",\"automargin\":true,\"zerolinewidth\":2},\"yaxis\":{\"gridcolor\":\"white\",\"linecolor\":\"white\",\"ticks\":\"\",\"title\":{\"standoff\":15},\"zerolinecolor\":\"white\",\"automargin\":true,\"zerolinewidth\":2},\"scene\":{\"xaxis\":{\"backgroundcolor\":\"#E5ECF6\",\"gridcolor\":\"white\",\"linecolor\":\"white\",\"showbackground\":true,\"ticks\":\"\",\"zerolinecolor\":\"white\",\"gridwidth\":2},\"yaxis\":{\"backgroundcolor\":\"#E5ECF6\",\"gridcolor\":\"white\",\"linecolor\":\"white\",\"showbackground\":true,\"ticks\":\"\",\"zerolinecolor\":\"white\",\"gridwidth\":2},\"zaxis\":{\"backgroundcolor\":\"#E5ECF6\",\"gridcolor\":\"white\",\"linecolor\":\"white\",\"showbackground\":true,\"ticks\":\"\",\"zerolinecolor\":\"white\",\"gridwidth\":2}},\"shapedefaults\":{\"line\":{\"color\":\"#2a3f5f\"}},\"annotationdefaults\":{\"arrowcolor\":\"#2a3f5f\",\"arrowhead\":0,\"arrowwidth\":1},\"geo\":{\"bgcolor\":\"white\",\"landcolor\":\"#E5ECF6\",\"subunitcolor\":\"white\",\"showland\":true,\"showlakes\":true,\"lakecolor\":\"white\"},\"title\":{\"x\":0.05},\"mapbox\":{\"style\":\"light\"}}},\"title\":{\"text\":\"SARIMA Forecast vs Actual (Params: {'p': 1, 'd': 1, 'q': 0, 'P': 1, 'D': 0, 'Q': 0, 's': 12})\"},\"xaxis\":{\"title\":{\"text\":\"Date\"}},\"yaxis\":{\"title\":{\"text\":\"Scaled Values\"}},\"legend\":{\"title\":{\"text\":\"Legend\"}},\"hovermode\":\"x\"},                        {\"responsive\": true}                    ).then(function(){\n",
              "                            \n",
              "var gd = document.getElementById('be3aa679-a895-4f13-a060-da654ddda642');\n",
              "var x = new MutationObserver(function (mutations, observer) {{\n",
              "        var display = window.getComputedStyle(gd).display;\n",
              "        if (!display || display === 'none') {{\n",
              "            console.log([gd, 'removed!']);\n",
              "            Plotly.purge(gd);\n",
              "            observer.disconnect();\n",
              "        }}\n",
              "}});\n",
              "\n",
              "// Listen for the removal of the full notebook cells\n",
              "var notebookContainer = gd.closest('#notebook-container');\n",
              "if (notebookContainer) {{\n",
              "    x.observe(notebookContainer, {childList: true});\n",
              "}}\n",
              "\n",
              "// Listen for the clearing of the current output cell\n",
              "var outputEl = gd.closest('.output');\n",
              "if (outputEl) {{\n",
              "    x.observe(outputEl, {childList: true});\n",
              "}}\n",
              "\n",
              "                        })                };                            </script>        </div>\n",
              "</body>\n",
              "</html>"
            ]
          },
          "metadata": {}
        }
      ]
    }
  ]
}