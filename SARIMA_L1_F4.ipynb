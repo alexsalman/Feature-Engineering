{
  "nbformat": 4,
  "nbformat_minor": 0,
  "metadata": {
    "colab": {
      "provenance": []
    },
    "kernelspec": {
      "name": "python3",
      "display_name": "Python 3"
    },
    "language_info": {
      "name": "python"
    }
  },
  "cells": [
    {
      "cell_type": "markdown",
      "source": [
        "# SARIMA (Seasonal Autoregressive Integrated Moving Average)\n",
        "A versatile and widely used time series forecasting model. It’s an extension of the non-seasonal ARIMA model, designed to handle data with seasonal patterns. SARIMA captures both short-term and long-term dependencies within the data, making it a robust tool for forecasting. It combines the concepts of autoregressive (AR), integrated (I), and moving average (MA) models with seasonal components."
      ],
      "metadata": {
        "id": "ddzelWjmFRyu"
      }
    },
    {
      "cell_type": "code",
      "source": [
        "# @title Tools Imports\n",
        "import os\n",
        "import numpy as np\n",
        "import pandas as pd\n",
        "import matplotlib.pyplot as plt\n",
        "import plotly.graph_objects as go\n",
        "from google.colab import drive\n",
        "from sklearn.preprocessing import MinMaxScaler\n",
        "from sklearn.metrics import mean_squared_error, mean_absolute_error\n",
        "from sklearn.metrics import r2_score, mean_squared_log_error\n",
        "from statsmodels.tsa.statespace.sarimax import SARIMAX\n",
        "from statsmodels.tsa.holtwinters import ExponentialSmoothing\n",
        "from statsmodels.tsa.stattools import acf, pacf\n",
        "from statsmodels.graphics.tsaplots import plot_acf, plot_pacf\n",
        "from statsmodels.stats.diagnostic import acorr_ljungbox\n",
        "import warnings\n",
        "warnings.filterwarnings('ignore')"
      ],
      "metadata": {
        "id": "FP5W7prZA-j2"
      },
      "execution_count": 1,
      "outputs": []
    },
    {
      "cell_type": "code",
      "source": [
        "# @title GDrive Mount\n",
        "drive.mount('/content/gdrive/', force_remount=True)\n",
        "gdrive_path = '/content/gdrive' + '/My Drive/ked/'\n",
        "os.chdir(gdrive_path)\n",
        "cwd = os.getcwd()\n",
        "files = os.listdir(cwd)\n",
        "print(\"Files in %r: %s\" % (cwd, files))"
      ],
      "metadata": {
        "id": "ZBZszK2CF1FG",
        "colab": {
          "base_uri": "https://localhost:8080/"
        },
        "outputId": "e93b8be3-4aea-41f3-f7c9-e41a6e18c364"
      },
      "execution_count": 2,
      "outputs": [
        {
          "output_type": "stream",
          "name": "stdout",
          "text": [
            "Mounted at /content/gdrive/\n",
            "Files in '/content/gdrive/My Drive/ked': ['augusta.csv', 'cleveland.csv', 'youngstown.csv', 'augusta_days.csv', 'augusta_.csv', 'logs.log']\n"
          ]
        }
      ]
    },
    {
      "cell_type": "code",
      "source": [
        "# @title Data Loading\n",
        "# Read csv to pandas\n",
        "data = pd.read_csv('augusta.csv')\n",
        "# Change datetime format\n",
        "data['date'] = pd.to_datetime(data['date'], errors='coerce', format='%Y%m')\n",
        "# Keep only the year and month in the date\n",
        "data['date'] = data['date'].dt.to_period('M')\n",
        "# Set date as index for the dataset\n",
        "data.set_index('date', inplace=True)\n",
        "# Change column name to 'y' to avoid hard coding when changing features\n",
        "data = data.rename(columns={'total return unit': 'y'})\n",
        "# Drop any missing values\n",
        "data = data.dropna()\n",
        "# Split data into training and testing sets\n",
        "train_size = int(0.8 * len(data))\n",
        "# First 80% for training and last 20% for testing\n",
        "train_data, test_data = data[:train_size], data[train_size:]\n",
        "# Verify that the split is correct by checking the shapes and continuity\n",
        "print(f\"Training Data Shape: {train_data.shape}\")\n",
        "print(f\"Testing Data Shape: {test_data.shape}\")\n",
        "print(f\"Total Data Shape: {data.shape}\")\n",
        "print(f\"Training Set First Date: {train_data.index[0]}\")\n",
        "print(f\"Training Set Last Date: {train_data.index[-1]}\")\n",
        "print(f\"Test Set First Date: {test_data.index[0]}\")\n",
        "print(f\"Test Set Last Date: {test_data.index[-1]}\")\n",
        "print(f\"\\nSample Training Data (Raw):\\n\", train_data['y'].head())\n",
        "print(f\"\\nSample Test Data (Raw):\\n\", test_data['y'].head())"
      ],
      "metadata": {
        "id": "Xs62w4LvGJhI",
        "colab": {
          "base_uri": "https://localhost:8080/"
        },
        "outputId": "1cdcdbe8-ae6d-4925-97b1-452cb713d5c3"
      },
      "execution_count": 3,
      "outputs": [
        {
          "output_type": "stream",
          "name": "stdout",
          "text": [
            "Training Data Shape: (48, 10)\n",
            "Testing Data Shape: (12, 10)\n",
            "Total Data Shape: (60, 10)\n",
            "Training Set First Date: 2019-01\n",
            "Training Set Last Date: 2022-12\n",
            "Test Set First Date: 2023-01\n",
            "Test Set Last Date: 2023-12\n",
            "\n",
            "Sample Training Data (Raw):\n",
            " date\n",
            "2019-01    2596\n",
            "2019-02    2249\n",
            "2019-03    1987\n",
            "2019-04    2135\n",
            "2019-05    2525\n",
            "Freq: M, Name: y, dtype: int64\n",
            "\n",
            "Sample Test Data (Raw):\n",
            " date\n",
            "2023-01    3853\n",
            "2023-02    3403\n",
            "2023-03    3398\n",
            "2023-04    3234\n",
            "2023-05    3557\n",
            "Freq: M, Name: y, dtype: int64\n"
          ]
        }
      ]
    },
    {
      "cell_type": "code",
      "source": [
        "# @title Available Features\n",
        "data.columns"
      ],
      "metadata": {
        "colab": {
          "base_uri": "https://localhost:8080/"
        },
        "id": "68aBD0gmf4oM",
        "outputId": "f4f8e1b2-3bf0-4eea-8f93-086a10c15fad"
      },
      "execution_count": 4,
      "outputs": [
        {
          "output_type": "execute_result",
          "data": {
            "text/plain": [
              "Index(['total donor', 'new donor', 'total return donor', 'return donor',\n",
              "       'month donor', 'total unit', 'new unit', 'y', 'return unit',\n",
              "       'month unit'],\n",
              "      dtype='object')"
            ]
          },
          "metadata": {},
          "execution_count": 4
        }
      ]
    },
    {
      "source": [
        "# @title Selected Feature Data\n",
        "train_data_plot = train_data.index.to_timestamp()\n",
        "test_data_plot = test_data.index.to_timestamp()\n",
        "# Create a figure\n",
        "fig = go.Figure()\n",
        "# Add training data as a line plot\n",
        "fig.add_trace(go.Scatter(x=train_data_plot, y=train_data['y'], mode='lines', name='Training Data'))\n",
        "# Add test data as a line plot\n",
        "fig.add_trace(go.Scatter(x=test_data_plot, y=test_data['y'], mode='lines', name='Test Data'))\n",
        "# Customize the layout\n",
        "fig.update_layout(\n",
        "    title='Selected Feature',\n",
        "    xaxis_title='Date',\n",
        "    yaxis_title='Volume',\n",
        "    showlegend=True,\n",
        "    hovermode='x',\n",
        "    plot_bgcolor='rgba(0,0,0,0)',  # Make background transparent\n",
        "    xaxis=dict(showgrid=True),\n",
        "    yaxis=dict(showgrid=True),\n",
        ")\n",
        "# Show the plot\n",
        "fig.show()"
      ],
      "cell_type": "code",
      "execution_count": 5,
      "outputs": [
        {
          "output_type": "display_data",
          "data": {
            "text/html": [
              "<html>\n",
              "<head><meta charset=\"utf-8\" /></head>\n",
              "<body>\n",
              "    <div>            <script src=\"https://cdnjs.cloudflare.com/ajax/libs/mathjax/2.7.5/MathJax.js?config=TeX-AMS-MML_SVG\"></script><script type=\"text/javascript\">if (window.MathJax && window.MathJax.Hub && window.MathJax.Hub.Config) {window.MathJax.Hub.Config({SVG: {font: \"STIX-Web\"}});}</script>                <script type=\"text/javascript\">window.PlotlyConfig = {MathJaxConfig: 'local'};</script>\n",
              "        <script charset=\"utf-8\" src=\"https://cdn.plot.ly/plotly-2.35.2.min.js\"></script>                <div id=\"4770dd38-7565-4140-aecf-a04655e21d92\" class=\"plotly-graph-div\" style=\"height:525px; width:100%;\"></div>            <script type=\"text/javascript\">                                    window.PLOTLYENV=window.PLOTLYENV || {};                                    if (document.getElementById(\"4770dd38-7565-4140-aecf-a04655e21d92\")) {                    Plotly.newPlot(                        \"4770dd38-7565-4140-aecf-a04655e21d92\",                        [{\"mode\":\"lines\",\"name\":\"Training Data\",\"x\":[\"2019-01-01T00:00:00\",\"2019-02-01T00:00:00\",\"2019-03-01T00:00:00\",\"2019-04-01T00:00:00\",\"2019-05-01T00:00:00\",\"2019-06-01T00:00:00\",\"2019-07-01T00:00:00\",\"2019-08-01T00:00:00\",\"2019-09-01T00:00:00\",\"2019-10-01T00:00:00\",\"2019-11-01T00:00:00\",\"2019-12-01T00:00:00\",\"2020-01-01T00:00:00\",\"2020-02-01T00:00:00\",\"2020-03-01T00:00:00\",\"2020-04-01T00:00:00\",\"2020-05-01T00:00:00\",\"2020-06-01T00:00:00\",\"2020-07-01T00:00:00\",\"2020-08-01T00:00:00\",\"2020-09-01T00:00:00\",\"2020-10-01T00:00:00\",\"2020-11-01T00:00:00\",\"2020-12-01T00:00:00\",\"2021-01-01T00:00:00\",\"2021-02-01T00:00:00\",\"2021-03-01T00:00:00\",\"2021-04-01T00:00:00\",\"2021-05-01T00:00:00\",\"2021-06-01T00:00:00\",\"2021-07-01T00:00:00\",\"2021-08-01T00:00:00\",\"2021-09-01T00:00:00\",\"2021-10-01T00:00:00\",\"2021-11-01T00:00:00\",\"2021-12-01T00:00:00\",\"2022-01-01T00:00:00\",\"2022-02-01T00:00:00\",\"2022-03-01T00:00:00\",\"2022-04-01T00:00:00\",\"2022-05-01T00:00:00\",\"2022-06-01T00:00:00\",\"2022-07-01T00:00:00\",\"2022-08-01T00:00:00\",\"2022-09-01T00:00:00\",\"2022-10-01T00:00:00\",\"2022-11-01T00:00:00\",\"2022-12-01T00:00:00\"],\"y\":[2596,2249,1987,2135,2525,2567,3116,3274,3065,3433,3239,3633,3887,4074,3409,3027,2655,2610,2934,2841,2905,3132,2805,3004,2506,2491,2188,1796,2056,2180,2287,2513,2790,3233,3274,3358,3053,2715,2716,2736,3185,3375,3624,3983,3860,3645,3683,3684],\"type\":\"scatter\"},{\"mode\":\"lines\",\"name\":\"Test Data\",\"x\":[\"2023-01-01T00:00:00\",\"2023-02-01T00:00:00\",\"2023-03-01T00:00:00\",\"2023-04-01T00:00:00\",\"2023-05-01T00:00:00\",\"2023-06-01T00:00:00\",\"2023-07-01T00:00:00\",\"2023-08-01T00:00:00\",\"2023-09-01T00:00:00\",\"2023-10-01T00:00:00\",\"2023-11-01T00:00:00\",\"2023-12-01T00:00:00\"],\"y\":[3853,3403,3398,3234,3557,3738,3550,3488,2851,2710,2581,2547],\"type\":\"scatter\"}],                        {\"template\":{\"data\":{\"histogram2dcontour\":[{\"type\":\"histogram2dcontour\",\"colorbar\":{\"outlinewidth\":0,\"ticks\":\"\"},\"colorscale\":[[0.0,\"#0d0887\"],[0.1111111111111111,\"#46039f\"],[0.2222222222222222,\"#7201a8\"],[0.3333333333333333,\"#9c179e\"],[0.4444444444444444,\"#bd3786\"],[0.5555555555555556,\"#d8576b\"],[0.6666666666666666,\"#ed7953\"],[0.7777777777777778,\"#fb9f3a\"],[0.8888888888888888,\"#fdca26\"],[1.0,\"#f0f921\"]]}],\"choropleth\":[{\"type\":\"choropleth\",\"colorbar\":{\"outlinewidth\":0,\"ticks\":\"\"}}],\"histogram2d\":[{\"type\":\"histogram2d\",\"colorbar\":{\"outlinewidth\":0,\"ticks\":\"\"},\"colorscale\":[[0.0,\"#0d0887\"],[0.1111111111111111,\"#46039f\"],[0.2222222222222222,\"#7201a8\"],[0.3333333333333333,\"#9c179e\"],[0.4444444444444444,\"#bd3786\"],[0.5555555555555556,\"#d8576b\"],[0.6666666666666666,\"#ed7953\"],[0.7777777777777778,\"#fb9f3a\"],[0.8888888888888888,\"#fdca26\"],[1.0,\"#f0f921\"]]}],\"heatmap\":[{\"type\":\"heatmap\",\"colorbar\":{\"outlinewidth\":0,\"ticks\":\"\"},\"colorscale\":[[0.0,\"#0d0887\"],[0.1111111111111111,\"#46039f\"],[0.2222222222222222,\"#7201a8\"],[0.3333333333333333,\"#9c179e\"],[0.4444444444444444,\"#bd3786\"],[0.5555555555555556,\"#d8576b\"],[0.6666666666666666,\"#ed7953\"],[0.7777777777777778,\"#fb9f3a\"],[0.8888888888888888,\"#fdca26\"],[1.0,\"#f0f921\"]]}],\"heatmapgl\":[{\"type\":\"heatmapgl\",\"colorbar\":{\"outlinewidth\":0,\"ticks\":\"\"},\"colorscale\":[[0.0,\"#0d0887\"],[0.1111111111111111,\"#46039f\"],[0.2222222222222222,\"#7201a8\"],[0.3333333333333333,\"#9c179e\"],[0.4444444444444444,\"#bd3786\"],[0.5555555555555556,\"#d8576b\"],[0.6666666666666666,\"#ed7953\"],[0.7777777777777778,\"#fb9f3a\"],[0.8888888888888888,\"#fdca26\"],[1.0,\"#f0f921\"]]}],\"contourcarpet\":[{\"type\":\"contourcarpet\",\"colorbar\":{\"outlinewidth\":0,\"ticks\":\"\"}}],\"contour\":[{\"type\":\"contour\",\"colorbar\":{\"outlinewidth\":0,\"ticks\":\"\"},\"colorscale\":[[0.0,\"#0d0887\"],[0.1111111111111111,\"#46039f\"],[0.2222222222222222,\"#7201a8\"],[0.3333333333333333,\"#9c179e\"],[0.4444444444444444,\"#bd3786\"],[0.5555555555555556,\"#d8576b\"],[0.6666666666666666,\"#ed7953\"],[0.7777777777777778,\"#fb9f3a\"],[0.8888888888888888,\"#fdca26\"],[1.0,\"#f0f921\"]]}],\"surface\":[{\"type\":\"surface\",\"colorbar\":{\"outlinewidth\":0,\"ticks\":\"\"},\"colorscale\":[[0.0,\"#0d0887\"],[0.1111111111111111,\"#46039f\"],[0.2222222222222222,\"#7201a8\"],[0.3333333333333333,\"#9c179e\"],[0.4444444444444444,\"#bd3786\"],[0.5555555555555556,\"#d8576b\"],[0.6666666666666666,\"#ed7953\"],[0.7777777777777778,\"#fb9f3a\"],[0.8888888888888888,\"#fdca26\"],[1.0,\"#f0f921\"]]}],\"mesh3d\":[{\"type\":\"mesh3d\",\"colorbar\":{\"outlinewidth\":0,\"ticks\":\"\"}}],\"scatter\":[{\"fillpattern\":{\"fillmode\":\"overlay\",\"size\":10,\"solidity\":0.2},\"type\":\"scatter\"}],\"parcoords\":[{\"type\":\"parcoords\",\"line\":{\"colorbar\":{\"outlinewidth\":0,\"ticks\":\"\"}}}],\"scatterpolargl\":[{\"type\":\"scatterpolargl\",\"marker\":{\"colorbar\":{\"outlinewidth\":0,\"ticks\":\"\"}}}],\"bar\":[{\"error_x\":{\"color\":\"#2a3f5f\"},\"error_y\":{\"color\":\"#2a3f5f\"},\"marker\":{\"line\":{\"color\":\"#E5ECF6\",\"width\":0.5},\"pattern\":{\"fillmode\":\"overlay\",\"size\":10,\"solidity\":0.2}},\"type\":\"bar\"}],\"scattergeo\":[{\"type\":\"scattergeo\",\"marker\":{\"colorbar\":{\"outlinewidth\":0,\"ticks\":\"\"}}}],\"scatterpolar\":[{\"type\":\"scatterpolar\",\"marker\":{\"colorbar\":{\"outlinewidth\":0,\"ticks\":\"\"}}}],\"histogram\":[{\"marker\":{\"pattern\":{\"fillmode\":\"overlay\",\"size\":10,\"solidity\":0.2}},\"type\":\"histogram\"}],\"scattergl\":[{\"type\":\"scattergl\",\"marker\":{\"colorbar\":{\"outlinewidth\":0,\"ticks\":\"\"}}}],\"scatter3d\":[{\"type\":\"scatter3d\",\"line\":{\"colorbar\":{\"outlinewidth\":0,\"ticks\":\"\"}},\"marker\":{\"colorbar\":{\"outlinewidth\":0,\"ticks\":\"\"}}}],\"scattermapbox\":[{\"type\":\"scattermapbox\",\"marker\":{\"colorbar\":{\"outlinewidth\":0,\"ticks\":\"\"}}}],\"scatterternary\":[{\"type\":\"scatterternary\",\"marker\":{\"colorbar\":{\"outlinewidth\":0,\"ticks\":\"\"}}}],\"scattercarpet\":[{\"type\":\"scattercarpet\",\"marker\":{\"colorbar\":{\"outlinewidth\":0,\"ticks\":\"\"}}}],\"carpet\":[{\"aaxis\":{\"endlinecolor\":\"#2a3f5f\",\"gridcolor\":\"white\",\"linecolor\":\"white\",\"minorgridcolor\":\"white\",\"startlinecolor\":\"#2a3f5f\"},\"baxis\":{\"endlinecolor\":\"#2a3f5f\",\"gridcolor\":\"white\",\"linecolor\":\"white\",\"minorgridcolor\":\"white\",\"startlinecolor\":\"#2a3f5f\"},\"type\":\"carpet\"}],\"table\":[{\"cells\":{\"fill\":{\"color\":\"#EBF0F8\"},\"line\":{\"color\":\"white\"}},\"header\":{\"fill\":{\"color\":\"#C8D4E3\"},\"line\":{\"color\":\"white\"}},\"type\":\"table\"}],\"barpolar\":[{\"marker\":{\"line\":{\"color\":\"#E5ECF6\",\"width\":0.5},\"pattern\":{\"fillmode\":\"overlay\",\"size\":10,\"solidity\":0.2}},\"type\":\"barpolar\"}],\"pie\":[{\"automargin\":true,\"type\":\"pie\"}]},\"layout\":{\"autotypenumbers\":\"strict\",\"colorway\":[\"#636efa\",\"#EF553B\",\"#00cc96\",\"#ab63fa\",\"#FFA15A\",\"#19d3f3\",\"#FF6692\",\"#B6E880\",\"#FF97FF\",\"#FECB52\"],\"font\":{\"color\":\"#2a3f5f\"},\"hovermode\":\"closest\",\"hoverlabel\":{\"align\":\"left\"},\"paper_bgcolor\":\"white\",\"plot_bgcolor\":\"#E5ECF6\",\"polar\":{\"bgcolor\":\"#E5ECF6\",\"angularaxis\":{\"gridcolor\":\"white\",\"linecolor\":\"white\",\"ticks\":\"\"},\"radialaxis\":{\"gridcolor\":\"white\",\"linecolor\":\"white\",\"ticks\":\"\"}},\"ternary\":{\"bgcolor\":\"#E5ECF6\",\"aaxis\":{\"gridcolor\":\"white\",\"linecolor\":\"white\",\"ticks\":\"\"},\"baxis\":{\"gridcolor\":\"white\",\"linecolor\":\"white\",\"ticks\":\"\"},\"caxis\":{\"gridcolor\":\"white\",\"linecolor\":\"white\",\"ticks\":\"\"}},\"coloraxis\":{\"colorbar\":{\"outlinewidth\":0,\"ticks\":\"\"}},\"colorscale\":{\"sequential\":[[0.0,\"#0d0887\"],[0.1111111111111111,\"#46039f\"],[0.2222222222222222,\"#7201a8\"],[0.3333333333333333,\"#9c179e\"],[0.4444444444444444,\"#bd3786\"],[0.5555555555555556,\"#d8576b\"],[0.6666666666666666,\"#ed7953\"],[0.7777777777777778,\"#fb9f3a\"],[0.8888888888888888,\"#fdca26\"],[1.0,\"#f0f921\"]],\"sequentialminus\":[[0.0,\"#0d0887\"],[0.1111111111111111,\"#46039f\"],[0.2222222222222222,\"#7201a8\"],[0.3333333333333333,\"#9c179e\"],[0.4444444444444444,\"#bd3786\"],[0.5555555555555556,\"#d8576b\"],[0.6666666666666666,\"#ed7953\"],[0.7777777777777778,\"#fb9f3a\"],[0.8888888888888888,\"#fdca26\"],[1.0,\"#f0f921\"]],\"diverging\":[[0,\"#8e0152\"],[0.1,\"#c51b7d\"],[0.2,\"#de77ae\"],[0.3,\"#f1b6da\"],[0.4,\"#fde0ef\"],[0.5,\"#f7f7f7\"],[0.6,\"#e6f5d0\"],[0.7,\"#b8e186\"],[0.8,\"#7fbc41\"],[0.9,\"#4d9221\"],[1,\"#276419\"]]},\"xaxis\":{\"gridcolor\":\"white\",\"linecolor\":\"white\",\"ticks\":\"\",\"title\":{\"standoff\":15},\"zerolinecolor\":\"white\",\"automargin\":true,\"zerolinewidth\":2},\"yaxis\":{\"gridcolor\":\"white\",\"linecolor\":\"white\",\"ticks\":\"\",\"title\":{\"standoff\":15},\"zerolinecolor\":\"white\",\"automargin\":true,\"zerolinewidth\":2},\"scene\":{\"xaxis\":{\"backgroundcolor\":\"#E5ECF6\",\"gridcolor\":\"white\",\"linecolor\":\"white\",\"showbackground\":true,\"ticks\":\"\",\"zerolinecolor\":\"white\",\"gridwidth\":2},\"yaxis\":{\"backgroundcolor\":\"#E5ECF6\",\"gridcolor\":\"white\",\"linecolor\":\"white\",\"showbackground\":true,\"ticks\":\"\",\"zerolinecolor\":\"white\",\"gridwidth\":2},\"zaxis\":{\"backgroundcolor\":\"#E5ECF6\",\"gridcolor\":\"white\",\"linecolor\":\"white\",\"showbackground\":true,\"ticks\":\"\",\"zerolinecolor\":\"white\",\"gridwidth\":2}},\"shapedefaults\":{\"line\":{\"color\":\"#2a3f5f\"}},\"annotationdefaults\":{\"arrowcolor\":\"#2a3f5f\",\"arrowhead\":0,\"arrowwidth\":1},\"geo\":{\"bgcolor\":\"white\",\"landcolor\":\"#E5ECF6\",\"subunitcolor\":\"white\",\"showland\":true,\"showlakes\":true,\"lakecolor\":\"white\"},\"title\":{\"x\":0.05},\"mapbox\":{\"style\":\"light\"}}},\"xaxis\":{\"title\":{\"text\":\"Date\"},\"showgrid\":true},\"yaxis\":{\"title\":{\"text\":\"Volume\"},\"showgrid\":true},\"title\":{\"text\":\"Selected Feature\"},\"showlegend\":true,\"hovermode\":\"x\",\"plot_bgcolor\":\"rgba(0,0,0,0)\"},                        {\"responsive\": true}                    ).then(function(){\n",
              "                            \n",
              "var gd = document.getElementById('4770dd38-7565-4140-aecf-a04655e21d92');\n",
              "var x = new MutationObserver(function (mutations, observer) {{\n",
              "        var display = window.getComputedStyle(gd).display;\n",
              "        if (!display || display === 'none') {{\n",
              "            console.log([gd, 'removed!']);\n",
              "            Plotly.purge(gd);\n",
              "            observer.disconnect();\n",
              "        }}\n",
              "}});\n",
              "\n",
              "// Listen for the removal of the full notebook cells\n",
              "var notebookContainer = gd.closest('#notebook-container');\n",
              "if (notebookContainer) {{\n",
              "    x.observe(notebookContainer, {childList: true});\n",
              "}}\n",
              "\n",
              "// Listen for the clearing of the current output cell\n",
              "var outputEl = gd.closest('.output');\n",
              "if (outputEl) {{\n",
              "    x.observe(outputEl, {childList: true});\n",
              "}}\n",
              "\n",
              "                        })                };                            </script>        </div>\n",
              "</body>\n",
              "</html>"
            ]
          },
          "metadata": {}
        }
      ],
      "metadata": {
        "colab": {
          "base_uri": "https://localhost:8080/",
          "height": 542
        },
        "id": "GIoJIG6z6ztB",
        "outputId": "c14bddd5-d64f-499c-ba61-d42f8d7095c9"
      }
    },
    {
      "cell_type": "code",
      "source": [
        "# @title Holt-Winters Exponential Smoothing\n",
        "# Exponential smoothing refers to the use of an exponentially weighted moving average to “smooth” a time series.\n",
        "hw_model = ExponentialSmoothing(\n",
        "                          train_data['y'],\n",
        "                          seasonal='add',\n",
        "                          seasonal_periods=12\n",
        "                          ).fit()\n",
        "train_data['y'] = hw_model.fittedvalues\n",
        "print(f\"\\nSample Training Data (Smoothed):\\n\", train_data['y'].head())\n",
        "print(f\"\\nSample Test Data (Raw):\\n\", test_data['y'].head())"
      ],
      "metadata": {
        "colab": {
          "base_uri": "https://localhost:8080/"
        },
        "id": "RXGQwcVy_ofR",
        "outputId": "40bf7a77-88e8-4664-9246-2019393090ba"
      },
      "execution_count": 6,
      "outputs": [
        {
          "output_type": "stream",
          "name": "stdout",
          "text": [
            "\n",
            "Sample Training Data (Smoothed):\n",
            " date\n",
            "2019-01    3030.057600\n",
            "2019-02    2545.329184\n",
            "2019-03    1956.429064\n",
            "2019-04    1787.465849\n",
            "2019-05    2225.120607\n",
            "Freq: M, Name: y, dtype: float64\n",
            "\n",
            "Sample Test Data (Raw):\n",
            " date\n",
            "2023-01    3853\n",
            "2023-02    3403\n",
            "2023-03    3398\n",
            "2023-04    3234\n",
            "2023-05    3557\n",
            "Freq: M, Name: y, dtype: int64\n"
          ]
        }
      ]
    },
    {
      "cell_type": "code",
      "source": [
        "# @title Calculate ACF and PACF\n",
        "# (ACF) The Autocorrelation Function describes the correlation between observations\n",
        "# of a time series at two points in time, separated by a specific lag k.\n",
        "# Essentially, it quantifies how a value in the time series is related to its previous values.\n",
        "# (PACF) While the ACF measures the correlation between two points with a given lag,\n",
        "# it doesn’t account for the influence of other intervening observations.\n",
        "# The PACF remedies this by measuring the correlation between two points,\n",
        "# controlling for the values at all shorter lags.\n",
        "# Set the number of lags to check\n",
        "nlags = 6\n",
        "# ACF\n",
        "acf_values, confint_acf = acf(train_data['y'], alpha=0.05, nlags=nlags)\n",
        "# PACF\n",
        "pacf_values, confint_pacf = pacf(train_data['y'], alpha=0.05, nlags=nlags)\n",
        "# Plot ACF and PACF\n",
        "plt.figure(figsize=(12, 6))\n",
        "# Plot ACF\n",
        "plt.subplot(211)\n",
        "plot_acf(train_data['y'], ax=plt.gca(), lags=nlags)\n",
        "plt.title('ACF for Smoothed Training Data')\n",
        "# Plot PACF\n",
        "plt.subplot(212)\n",
        "plot_pacf(train_data['y'], ax=plt.gca(), lags=nlags)\n",
        "plt.title('PACF for Smoothed Training Data')\n",
        "# Show\n",
        "plt.tight_layout()\n",
        "plt.show()\n",
        "# Find recommended lags programmatically\n",
        "# Find the first lag where the ACF value is within the confidence interval (for MA term)\n",
        "upper_confidence_bound_acf = confint_acf[:, 1]\n",
        "recommended_ma_lag = np.where(acf_values < upper_confidence_bound_acf)[0][0]\n",
        "# Find the first lag where the PACF value is within the confidence interval (for AR term)\n",
        "upper_confidence_bound_pacf = confint_pacf[:, 1]\n",
        "recommended_ar_lag = np.where(pacf_values < upper_confidence_bound_pacf)[0][0]\n",
        "print(f\"Recommended Moving Average (MA) Lag (from ACF): {recommended_ma_lag}\")\n",
        "print(f\"Recommended Autoregressive (AR) Lag (from PACF): {recommended_ar_lag}\")"
      ],
      "metadata": {
        "colab": {
          "base_uri": "https://localhost:8080/",
          "height": 643
        },
        "id": "APJgz0cU_oUV",
        "outputId": "65ae6970-a0c3-4ae5-f5b7-0da2abf06471"
      },
      "execution_count": 7,
      "outputs": [
        {
          "output_type": "display_data",
          "data": {
            "text/plain": [
              "<Figure size 1200x600 with 2 Axes>"
            ],
            "image/png": "[encoded data removed]"
          },
          "metadata": {}
        },
        {
          "output_type": "stream",
          "name": "stdout",
          "text": [
            "Recommended Moving Average (MA) Lag (from ACF): 1\n",
            "Recommended Autoregressive (AR) Lag (from PACF): 1\n"
          ]
        }
      ]
    },
    {
      "cell_type": "code",
      "source": [
        "# @title Scaling Training and Test Data\n",
        "def scale_data(train_data, test_data):\n",
        "    scaler = MinMaxScaler()\n",
        "    train_scaled = scaler.fit_transform(train_data.values.reshape(-1, 1))\n",
        "    test_scaled = scaler.transform(test_data.values.reshape(-1, 1))\n",
        "    return train_scaled, test_scaled\n",
        "train_data['y'], test_data['y'] = scale_data(train_data['y'], test_data['y'])\n",
        "# Metrics\n",
        "print(f\"Training Data Shape: {train_data.shape}\")\n",
        "print(f\"Testing Data Shape: {test_data.shape}\")\n",
        "print(f\"\\nSample Training Data (Scaled):\\n\", train_data['y'].head())\n",
        "print(f\"\\nSample Test Data (Scaled):\\n\", test_data['y'].head())\n",
        "# Convert scaled data back to DataFrame for SARIMA\n",
        "train_data_scaled = pd.DataFrame(train_data['y'], index=train_data.index, columns=['y'])\n",
        "test_data_scaled = pd.DataFrame(test_data['y'], index=test_data.index, columns=['y'])\n",
        "# Combine scaled train and test data\n",
        "data_scaled = pd.concat([train_data_scaled, test_data_scaled])"
      ],
      "metadata": {
        "colab": {
          "base_uri": "https://localhost:8080/"
        },
        "id": "Ug_YKSbxG8s5",
        "outputId": "db7eda7a-b944-413d-81c8-72812e5779ab"
      },
      "execution_count": 8,
      "outputs": [
        {
          "output_type": "stream",
          "name": "stdout",
          "text": [
            "Training Data Shape: (48, 10)\n",
            "Testing Data Shape: (12, 10)\n",
            "\n",
            "Sample Training Data (Scaled):\n",
            " date\n",
            "2019-01    0.539177\n",
            "2019-02    0.328847\n",
            "2019-03    0.073315\n",
            "2019-04    0.000000\n",
            "2019-05    0.189904\n",
            "Freq: M, Name: y, dtype: float64\n",
            "\n",
            "Sample Test Data (Scaled):\n",
            " date\n",
            "2023-01    0.896263\n",
            "2023-02    0.701002\n",
            "2023-03    0.698833\n",
            "2023-04    0.627671\n",
            "2023-05    0.767825\n",
            "Freq: M, Name: y, dtype: float64\n"
          ]
        }
      ]
    },
    {
      "cell_type": "code",
      "source": [
        "# @title SARIMA Model\n",
        "# SARIMA model fitting and forecasting\n",
        "def model_sarima(train_data, step_size, p, d, q, P, D, Q, s):\n",
        "    model = SARIMAX(train_data, order=(p, d, q), seasonal_order=(P, D, Q, s))\n",
        "    model_fit = model.fit(disp=False)\n",
        "    prediction = model_fit.forecast(steps=step_size)\n",
        "    return prediction, model_fit\n",
        "# Cross-validation for SARIMA\n",
        "def sarima(data, feature_name, initial_window_size, step_size, p, d, q, P, D, Q, s):\n",
        "    window_size = initial_window_size\n",
        "    predictions = pd.Series(dtype='float64', index=data.index)\n",
        "    # Sliding window approach for time series cross-validation\n",
        "    while window_size + step_size <= len(data):\n",
        "        train_data = data[feature_name][:window_size]\n",
        "        test_data = data[feature_name][window_size:window_size + step_size]\n",
        "        # prediction\n",
        "        prediction, model_fit = model_sarima(train_data, step_size, p, d, q, P, D, Q, s)\n",
        "        prediction.index = test_data.index\n",
        "        predictions[test_data.index] = prediction\n",
        "        window_size += step_size\n",
        "    return data[feature_name][initial_window_size:], predictions[initial_window_size:], model_fit"
      ],
      "metadata": {
        "id": "NJVBsDMfVsCo"
      },
      "execution_count": 9,
      "outputs": []
    },
    {
      "cell_type": "code",
      "source": [
        "# @title Model Evaluation\n",
        "parameter_sets = [\n",
        "    {'p': 1, 'd': 0, 'q': 0, 'P': 1, 'D': 0, 'Q': 0, 's': 12},\n",
        "    # {'p': 1, 'd': 1, 'q': 1, 'P': 1, 'D': 0, 'Q': 1, 's': 12},\n",
        "    # {'p': 1, 'd': 1, 'q': 0, 'P': 1, 'D': 1, 'Q': 0, 's': 12},\n",
        "    # {'p': 1, 'd': 1, 'q': 0, 'P': 1, 'D': 0, 'Q': 0, 's': 12},\n",
        "    # {'p': 1, 'd': 0, 'q': 1, 'P': 1, 'D': 0, 'Q': 1, 's': 12},\n",
        "    # {'p': 1, 'd': 0, 'q': 0, 'P': 1, 'D': 1, 'Q': 0, 's': 12},\n",
        "    # {'p': 2, 'd': 0, 'q': 0, 'P': 2, 'D': 0, 'Q': 0, 's': 12},\n",
        "    # {'p': 2, 'd': 1, 'q': 0, 'P': 1, 'D': 0, 'Q': 0, 's': 12},\n",
        "    # {'p': 2, 'd': 1, 'q': 0, 'P': 1, 'D': 1, 'Q': 0, 's': 12},\n",
        "    # {'p': 2, 'd': 1, 'q': 0, 'P': 2, 'D': 1, 'Q': 0, 's': 12},\n",
        "]\n",
        "# Cross-validation: Test different parameter sets and plot results\n",
        "for params in parameter_sets:\n",
        "    test, forecast, model = sarima(\n",
        "        data_scaled,\n",
        "        'y',\n",
        "        initial_window_size=48,\n",
        "        step_size=1,\n",
        "        p=params['p'],\n",
        "        d=params['d'],\n",
        "        q=params['q'],\n",
        "        P=params['P'],\n",
        "        D=params['D'],\n",
        "        Q=params['Q'],\n",
        "        s=params['s']\n",
        "    )\n",
        "    # Remove any NaN values in test and forecast\n",
        "    test = test.dropna()\n",
        "    forecast = forecast.dropna()\n",
        "    # Align the indices of the test and forecast data\n",
        "    test, forecast = test.align(forecast, join='inner')\n",
        "    # Print params\n",
        "    print(f\"Params: {params}\")\n",
        "    # Check if test or forecast is empty\n",
        "    if test.empty or forecast.empty:\n",
        "        print(\"Test or forecast data is empty after aligning indices.\")\n",
        "        continue\n",
        "    # Calculate evaluation metrics\n",
        "    def mean_absolute_percentage_error(y_true, y_pred):\n",
        "        return np.mean(np.abs((y_true - y_pred) / y_true)) * 100\n",
        "    bic = model.bic  # Extract the BIC from the fitted SARIMA model\n",
        "    mse = mean_squared_error(test, forecast)\n",
        "    mae = mean_absolute_error(test, forecast)\n",
        "    r2 = r2_score(test, forecast)\n",
        "    rmse = np.sqrt(mse)\n",
        "    mape = mean_absolute_percentage_error(test, forecast)\n",
        "    msle = mean_squared_log_error(test, forecast)\n",
        "    residuals = test - forecast\n",
        "    lb_test = acorr_ljungbox(residuals, lags=[6], return_df=True)['lb_pvalue'].values[0]\n",
        "    # Print metrics\n",
        "    # Average magnitude of errors in predictions, without considering their direction\n",
        "    print(f'MAE: {mae}') # Indicates average absolute error\n",
        "    # Average difference between a statistical model's predicted values and the actual values\n",
        "    print(f'RMSE: {rmse}') # Penalizes large errors more\n",
        "    # Prediction accuracy of a forecasting method in statistics\n",
        "    print(f'MAPE: {mape}') # Useful to report the error in percentage terms\n",
        "    # Coefficient of determination, the proportion of variance in a dependent variable that can be predicted or explained by an independent variable\n",
        "    print(f'R²: {r2}') # For explaining how much variance the model captures\n",
        "    # Bayesian Information Criterion: evaluates how well the model fits the data relative to its complexity\n",
        "    print(f'BIC: {bic}') # For balancing fit vs. complexity\n",
        "    # Average of the squares of the errors\n",
        "    print(f'MSE: {mse}')\n",
        "    # Average of the squared differences between the logarithms of the predicted and actual values\n",
        "    print(f'MSLE: {msle}')\n",
        "    # High p-value (> 0.05): No significant autocorrelation in residuals, meaning the model is good at capturing the data structure\n",
        "    print(f'Ljung-Box Test p-value: {lb_test}\\n') # To confirm the residuals have no significant autocorrelation\n",
        "    # Interactive Plot using Plotly\n",
        "    training_data = data_scaled['y'][:train_size]\n",
        "    testing_data = test\n",
        "    forecast_data = forecast\n",
        "    train_idx = train_data.index.to_timestamp()\n",
        "    test_idx = test_data.index.to_timestamp()\n",
        "    forecast_idx = test_data.index.to_timestamp()\n",
        "    # Plot using Plotly\n",
        "    fig = go.Figure()\n",
        "    # Training data\n",
        "    fig.add_trace(go.Scatter(x=train_idx, y=training_data, mode='lines', name='Training Data'))\n",
        "    # Testing data\n",
        "    fig.add_trace(go.Scatter(x=test_idx, y=testing_data, mode='lines', name='Testing Data'))\n",
        "    # Forecast data\n",
        "    fig.add_trace(go.Scatter(x=forecast_idx, y=forecast_data, mode='lines', name='Forecast'))\n",
        "    # Add titles and labels\n",
        "    fig.update_layout(\n",
        "        title=f\"SARIMA Forecast vs Actual (Params: {params})\",\n",
        "        xaxis_title='Date',\n",
        "        yaxis_title='Scaled Values',\n",
        "        legend_title='Legend',\n",
        "        hovermode='x'\n",
        "    )\n",
        "    # Show the interactive plot\n",
        "    fig.show()"
      ],
      "metadata": {
        "colab": {
          "base_uri": "https://localhost:8080/",
          "height": 721
        },
        "id": "FRVpZ8z3G8dQ",
        "outputId": "ef2d51dc-4240-450a-948b-20ccbcc8d5df"
      },
      "execution_count": 10,
      "outputs": [
        {
          "output_type": "stream",
          "name": "stdout",
          "text": [
            "Params: {'p': 1, 'd': 0, 'q': 0, 'P': 1, 'D': 0, 'Q': 0, 's': 12}\n",
            "MAE: 0.08747806159924182\n",
            "RMSE: 0.11285580849775705\n",
            "MAPE: 14.779447210960328\n",
            "R²: 0.6439862861611644\n",
            "BIC: -64.97152396305222\n",
            "MSE: 0.01273643351168241\n",
            "MSLE: 0.00463252635301441\n",
            "Ljung-Box Test p-value: 0.34589963320918166\n",
            "\n"
          ]
        },
        {
          "output_type": "display_data",
          "data": {
            "text/html": [
              "<html>\n",
              "<head><meta charset=\"utf-8\" /></head>\n",
              "<body>\n",
              "    <div>            <script src=\"https://cdnjs.cloudflare.com/ajax/libs/mathjax/2.7.5/MathJax.js?config=TeX-AMS-MML_SVG\"></script><script type=\"text/javascript\">if (window.MathJax && window.MathJax.Hub && window.MathJax.Hub.Config) {window.MathJax.Hub.Config({SVG: {font: \"STIX-Web\"}});}</script>                <script type=\"text/javascript\">window.PlotlyConfig = {MathJaxConfig: 'local'};</script>\n",
              "        <script charset=\"utf-8\" src=\"https://cdn.plot.ly/plotly-2.35.2.min.js\"></script>                <div id=\"254541b1-95e9-42f4-bb6e-9243a1f6d178\" class=\"plotly-graph-div\" style=\"height:525px; width:100%;\"></div>            <script type=\"text/javascript\">                                    window.PLOTLYENV=window.PLOTLYENV || {};                                    if (document.getElementById(\"254541b1-95e9-42f4-bb6e-9243a1f6d178\")) {                    Plotly.newPlot(                        \"254541b1-95e9-42f4-bb6e-9243a1f6d178\",                        [{\"mode\":\"lines\",\"name\":\"Training Data\",\"x\":[\"2019-01-01T00:00:00\",\"2019-02-01T00:00:00\",\"2019-03-01T00:00:00\",\"2019-04-01T00:00:00\",\"2019-05-01T00:00:00\",\"2019-06-01T00:00:00\",\"2019-07-01T00:00:00\",\"2019-08-01T00:00:00\",\"2019-09-01T00:00:00\",\"2019-10-01T00:00:00\",\"2019-11-01T00:00:00\",\"2019-12-01T00:00:00\",\"2020-01-01T00:00:00\",\"2020-02-01T00:00:00\",\"2020-03-01T00:00:00\",\"2020-04-01T00:00:00\",\"2020-05-01T00:00:00\",\"2020-06-01T00:00:00\",\"2020-07-01T00:00:00\",\"2020-08-01T00:00:00\",\"2020-09-01T00:00:00\",\"2020-10-01T00:00:00\",\"2020-11-01T00:00:00\",\"2020-12-01T00:00:00\",\"2021-01-01T00:00:00\",\"2021-02-01T00:00:00\",\"2021-03-01T00:00:00\",\"2021-04-01T00:00:00\",\"2021-05-01T00:00:00\",\"2021-06-01T00:00:00\",\"2021-07-01T00:00:00\",\"2021-08-01T00:00:00\",\"2021-09-01T00:00:00\",\"2021-10-01T00:00:00\",\"2021-11-01T00:00:00\",\"2021-12-01T00:00:00\",\"2022-01-01T00:00:00\",\"2022-02-01T00:00:00\",\"2022-03-01T00:00:00\",\"2022-04-01T00:00:00\",\"2022-05-01T00:00:00\",\"2022-06-01T00:00:00\",\"2022-07-01T00:00:00\",\"2022-08-01T00:00:00\",\"2022-09-01T00:00:00\",\"2022-10-01T00:00:00\",\"2022-11-01T00:00:00\",\"2022-12-01T00:00:00\"],\"y\":[0.5391773587908187,0.3288471462135588,0.07331542295622229,0.0,0.1899043157993393,0.31506026594513614,0.4506784117416046,0.629012032706907,0.6425221747328812,0.6579602582614755,0.6691868289208757,0.7043151962630189,0.6891765207910835,0.8517606826519407,0.8417709201956461,0.6323423019859259,0.5993891593173221,0.40300729294305115,0.4767326636542527,0.5586598430231274,0.4644662141622341,0.5799180745537061,0.5424980843455448,0.5230104332039288,0.4259244607544189,0.2827358608193621,0.1630420089634037,0.08921773384351639,0.06315876927716269,0.11932116446219121,0.2818419050837023,0.2846462261835475,0.31118098295564434,0.520311912368839,0.5757583810403727,0.7118388554880771,0.5816182274208662,0.513885791760491,0.2724850220422196,0.3063412680915235,0.45479039371192986,0.6001192133219554,0.795753266535219,0.859606903531743,0.9441446377753823,0.9999999999999999,0.7819320476093389,0.8909853485161486],\"type\":\"scatter\"},{\"mode\":\"lines\",\"name\":\"Testing Data\",\"x\":[\"2023-01-01T00:00:00\",\"2023-02-01T00:00:00\",\"2023-03-01T00:00:00\",\"2023-04-01T00:00:00\",\"2023-05-01T00:00:00\",\"2023-06-01T00:00:00\",\"2023-07-01T00:00:00\",\"2023-08-01T00:00:00\",\"2023-09-01T00:00:00\",\"2023-10-01T00:00:00\",\"2023-11-01T00:00:00\",\"2023-12-01T00:00:00\"],\"y\":[0.8962631910751141,0.7010021077291174,0.6988325401363841,0.6276707230947319,0.7678247895853029,0.8463631364422483,0.7647873949554763,0.7378847568055834,0.4614818454913613,0.40030003937628245,0.3443251954837633,0.3295721358531768],\"type\":\"scatter\"},{\"mode\":\"lines\",\"name\":\"Forecast\",\"x\":[\"2023-01-01T00:00:00\",\"2023-02-01T00:00:00\",\"2023-03-01T00:00:00\",\"2023-04-01T00:00:00\",\"2023-05-01T00:00:00\",\"2023-06-01T00:00:00\",\"2023-07-01T00:00:00\",\"2023-08-01T00:00:00\",\"2023-09-01T00:00:00\",\"2023-10-01T00:00:00\",\"2023-11-01T00:00:00\",\"2023-12-01T00:00:00\"],\"y\":[0.8417526832046465,0.8627829185441755,0.6257939819022285,0.6868861701648991,0.6399392566485801,0.7819582436387156,0.8747065525542154,0.7610658658571908,0.73944371939156,0.46081206299752525,0.3556320906192141,0.3555920660067359],\"type\":\"scatter\"}],                        {\"template\":{\"data\":{\"histogram2dcontour\":[{\"type\":\"histogram2dcontour\",\"colorbar\":{\"outlinewidth\":0,\"ticks\":\"\"},\"colorscale\":[[0.0,\"#0d0887\"],[0.1111111111111111,\"#46039f\"],[0.2222222222222222,\"#7201a8\"],[0.3333333333333333,\"#9c179e\"],[0.4444444444444444,\"#bd3786\"],[0.5555555555555556,\"#d8576b\"],[0.6666666666666666,\"#ed7953\"],[0.7777777777777778,\"#fb9f3a\"],[0.8888888888888888,\"#fdca26\"],[1.0,\"#f0f921\"]]}],\"choropleth\":[{\"type\":\"choropleth\",\"colorbar\":{\"outlinewidth\":0,\"ticks\":\"\"}}],\"histogram2d\":[{\"type\":\"histogram2d\",\"colorbar\":{\"outlinewidth\":0,\"ticks\":\"\"},\"colorscale\":[[0.0,\"#0d0887\"],[0.1111111111111111,\"#46039f\"],[0.2222222222222222,\"#7201a8\"],[0.3333333333333333,\"#9c179e\"],[0.4444444444444444,\"#bd3786\"],[0.5555555555555556,\"#d8576b\"],[0.6666666666666666,\"#ed7953\"],[0.7777777777777778,\"#fb9f3a\"],[0.8888888888888888,\"#fdca26\"],[1.0,\"#f0f921\"]]}],\"heatmap\":[{\"type\":\"heatmap\",\"colorbar\":{\"outlinewidth\":0,\"ticks\":\"\"},\"colorscale\":[[0.0,\"#0d0887\"],[0.1111111111111111,\"#46039f\"],[0.2222222222222222,\"#7201a8\"],[0.3333333333333333,\"#9c179e\"],[0.4444444444444444,\"#bd3786\"],[0.5555555555555556,\"#d8576b\"],[0.6666666666666666,\"#ed7953\"],[0.7777777777777778,\"#fb9f3a\"],[0.8888888888888888,\"#fdca26\"],[1.0,\"#f0f921\"]]}],\"heatmapgl\":[{\"type\":\"heatmapgl\",\"colorbar\":{\"outlinewidth\":0,\"ticks\":\"\"},\"colorscale\":[[0.0,\"#0d0887\"],[0.1111111111111111,\"#46039f\"],[0.2222222222222222,\"#7201a8\"],[0.3333333333333333,\"#9c179e\"],[0.4444444444444444,\"#bd3786\"],[0.5555555555555556,\"#d8576b\"],[0.6666666666666666,\"#ed7953\"],[0.7777777777777778,\"#fb9f3a\"],[0.8888888888888888,\"#fdca26\"],[1.0,\"#f0f921\"]]}],\"contourcarpet\":[{\"type\":\"contourcarpet\",\"colorbar\":{\"outlinewidth\":0,\"ticks\":\"\"}}],\"contour\":[{\"type\":\"contour\",\"colorbar\":{\"outlinewidth\":0,\"ticks\":\"\"},\"colorscale\":[[0.0,\"#0d0887\"],[0.1111111111111111,\"#46039f\"],[0.2222222222222222,\"#7201a8\"],[0.3333333333333333,\"#9c179e\"],[0.4444444444444444,\"#bd3786\"],[0.5555555555555556,\"#d8576b\"],[0.6666666666666666,\"#ed7953\"],[0.7777777777777778,\"#fb9f3a\"],[0.8888888888888888,\"#fdca26\"],[1.0,\"#f0f921\"]]}],\"surface\":[{\"type\":\"surface\",\"colorbar\":{\"outlinewidth\":0,\"ticks\":\"\"},\"colorscale\":[[0.0,\"#0d0887\"],[0.1111111111111111,\"#46039f\"],[0.2222222222222222,\"#7201a8\"],[0.3333333333333333,\"#9c179e\"],[0.4444444444444444,\"#bd3786\"],[0.5555555555555556,\"#d8576b\"],[0.6666666666666666,\"#ed7953\"],[0.7777777777777778,\"#fb9f3a\"],[0.8888888888888888,\"#fdca26\"],[1.0,\"#f0f921\"]]}],\"mesh3d\":[{\"type\":\"mesh3d\",\"colorbar\":{\"outlinewidth\":0,\"ticks\":\"\"}}],\"scatter\":[{\"fillpattern\":{\"fillmode\":\"overlay\",\"size\":10,\"solidity\":0.2},\"type\":\"scatter\"}],\"parcoords\":[{\"type\":\"parcoords\",\"line\":{\"colorbar\":{\"outlinewidth\":0,\"ticks\":\"\"}}}],\"scatterpolargl\":[{\"type\":\"scatterpolargl\",\"marker\":{\"colorbar\":{\"outlinewidth\":0,\"ticks\":\"\"}}}],\"bar\":[{\"error_x\":{\"color\":\"#2a3f5f\"},\"error_y\":{\"color\":\"#2a3f5f\"},\"marker\":{\"line\":{\"color\":\"#E5ECF6\",\"width\":0.5},\"pattern\":{\"fillmode\":\"overlay\",\"size\":10,\"solidity\":0.2}},\"type\":\"bar\"}],\"scattergeo\":[{\"type\":\"scattergeo\",\"marker\":{\"colorbar\":{\"outlinewidth\":0,\"ticks\":\"\"}}}],\"scatterpolar\":[{\"type\":\"scatterpolar\",\"marker\":{\"colorbar\":{\"outlinewidth\":0,\"ticks\":\"\"}}}],\"histogram\":[{\"marker\":{\"pattern\":{\"fillmode\":\"overlay\",\"size\":10,\"solidity\":0.2}},\"type\":\"histogram\"}],\"scattergl\":[{\"type\":\"scattergl\",\"marker\":{\"colorbar\":{\"outlinewidth\":0,\"ticks\":\"\"}}}],\"scatter3d\":[{\"type\":\"scatter3d\",\"line\":{\"colorbar\":{\"outlinewidth\":0,\"ticks\":\"\"}},\"marker\":{\"colorbar\":{\"outlinewidth\":0,\"ticks\":\"\"}}}],\"scattermapbox\":[{\"type\":\"scattermapbox\",\"marker\":{\"colorbar\":{\"outlinewidth\":0,\"ticks\":\"\"}}}],\"scatterternary\":[{\"type\":\"scatterternary\",\"marker\":{\"colorbar\":{\"outlinewidth\":0,\"ticks\":\"\"}}}],\"scattercarpet\":[{\"type\":\"scattercarpet\",\"marker\":{\"colorbar\":{\"outlinewidth\":0,\"ticks\":\"\"}}}],\"carpet\":[{\"aaxis\":{\"endlinecolor\":\"#2a3f5f\",\"gridcolor\":\"white\",\"linecolor\":\"white\",\"minorgridcolor\":\"white\",\"startlinecolor\":\"#2a3f5f\"},\"baxis\":{\"endlinecolor\":\"#2a3f5f\",\"gridcolor\":\"white\",\"linecolor\":\"white\",\"minorgridcolor\":\"white\",\"startlinecolor\":\"#2a3f5f\"},\"type\":\"carpet\"}],\"table\":[{\"cells\":{\"fill\":{\"color\":\"#EBF0F8\"},\"line\":{\"color\":\"white\"}},\"header\":{\"fill\":{\"color\":\"#C8D4E3\"},\"line\":{\"color\":\"white\"}},\"type\":\"table\"}],\"barpolar\":[{\"marker\":{\"line\":{\"color\":\"#E5ECF6\",\"width\":0.5},\"pattern\":{\"fillmode\":\"overlay\",\"size\":10,\"solidity\":0.2}},\"type\":\"barpolar\"}],\"pie\":[{\"automargin\":true,\"type\":\"pie\"}]},\"layout\":{\"autotypenumbers\":\"strict\",\"colorway\":[\"#636efa\",\"#EF553B\",\"#00cc96\",\"#ab63fa\",\"#FFA15A\",\"#19d3f3\",\"#FF6692\",\"#B6E880\",\"#FF97FF\",\"#FECB52\"],\"font\":{\"color\":\"#2a3f5f\"},\"hovermode\":\"closest\",\"hoverlabel\":{\"align\":\"left\"},\"paper_bgcolor\":\"white\",\"plot_bgcolor\":\"#E5ECF6\",\"polar\":{\"bgcolor\":\"#E5ECF6\",\"angularaxis\":{\"gridcolor\":\"white\",\"linecolor\":\"white\",\"ticks\":\"\"},\"radialaxis\":{\"gridcolor\":\"white\",\"linecolor\":\"white\",\"ticks\":\"\"}},\"ternary\":{\"bgcolor\":\"#E5ECF6\",\"aaxis\":{\"gridcolor\":\"white\",\"linecolor\":\"white\",\"ticks\":\"\"},\"baxis\":{\"gridcolor\":\"white\",\"linecolor\":\"white\",\"ticks\":\"\"},\"caxis\":{\"gridcolor\":\"white\",\"linecolor\":\"white\",\"ticks\":\"\"}},\"coloraxis\":{\"colorbar\":{\"outlinewidth\":0,\"ticks\":\"\"}},\"colorscale\":{\"sequential\":[[0.0,\"#0d0887\"],[0.1111111111111111,\"#46039f\"],[0.2222222222222222,\"#7201a8\"],[0.3333333333333333,\"#9c179e\"],[0.4444444444444444,\"#bd3786\"],[0.5555555555555556,\"#d8576b\"],[0.6666666666666666,\"#ed7953\"],[0.7777777777777778,\"#fb9f3a\"],[0.8888888888888888,\"#fdca26\"],[1.0,\"#f0f921\"]],\"sequentialminus\":[[0.0,\"#0d0887\"],[0.1111111111111111,\"#46039f\"],[0.2222222222222222,\"#7201a8\"],[0.3333333333333333,\"#9c179e\"],[0.4444444444444444,\"#bd3786\"],[0.5555555555555556,\"#d8576b\"],[0.6666666666666666,\"#ed7953\"],[0.7777777777777778,\"#fb9f3a\"],[0.8888888888888888,\"#fdca26\"],[1.0,\"#f0f921\"]],\"diverging\":[[0,\"#8e0152\"],[0.1,\"#c51b7d\"],[0.2,\"#de77ae\"],[0.3,\"#f1b6da\"],[0.4,\"#fde0ef\"],[0.5,\"#f7f7f7\"],[0.6,\"#e6f5d0\"],[0.7,\"#b8e186\"],[0.8,\"#7fbc41\"],[0.9,\"#4d9221\"],[1,\"#276419\"]]},\"xaxis\":{\"gridcolor\":\"white\",\"linecolor\":\"white\",\"ticks\":\"\",\"title\":{\"standoff\":15},\"zerolinecolor\":\"white\",\"automargin\":true,\"zerolinewidth\":2},\"yaxis\":{\"gridcolor\":\"white\",\"linecolor\":\"white\",\"ticks\":\"\",\"title\":{\"standoff\":15},\"zerolinecolor\":\"white\",\"automargin\":true,\"zerolinewidth\":2},\"scene\":{\"xaxis\":{\"backgroundcolor\":\"#E5ECF6\",\"gridcolor\":\"white\",\"linecolor\":\"white\",\"showbackground\":true,\"ticks\":\"\",\"zerolinecolor\":\"white\",\"gridwidth\":2},\"yaxis\":{\"backgroundcolor\":\"#E5ECF6\",\"gridcolor\":\"white\",\"linecolor\":\"white\",\"showbackground\":true,\"ticks\":\"\",\"zerolinecolor\":\"white\",\"gridwidth\":2},\"zaxis\":{\"backgroundcolor\":\"#E5ECF6\",\"gridcolor\":\"white\",\"linecolor\":\"white\",\"showbackground\":true,\"ticks\":\"\",\"zerolinecolor\":\"white\",\"gridwidth\":2}},\"shapedefaults\":{\"line\":{\"color\":\"#2a3f5f\"}},\"annotationdefaults\":{\"arrowcolor\":\"#2a3f5f\",\"arrowhead\":0,\"arrowwidth\":1},\"geo\":{\"bgcolor\":\"white\",\"landcolor\":\"#E5ECF6\",\"subunitcolor\":\"white\",\"showland\":true,\"showlakes\":true,\"lakecolor\":\"white\"},\"title\":{\"x\":0.05},\"mapbox\":{\"style\":\"light\"}}},\"title\":{\"text\":\"SARIMA Forecast vs Actual (Params: {'p': 1, 'd': 0, 'q': 0, 'P': 1, 'D': 0, 'Q': 0, 's': 12})\"},\"xaxis\":{\"title\":{\"text\":\"Date\"}},\"yaxis\":{\"title\":{\"text\":\"Scaled Values\"}},\"legend\":{\"title\":{\"text\":\"Legend\"}},\"hovermode\":\"x\"},                        {\"responsive\": true}                    ).then(function(){\n",
              "                            \n",
              "var gd = document.getElementById('254541b1-95e9-42f4-bb6e-9243a1f6d178');\n",
              "var x = new MutationObserver(function (mutations, observer) {{\n",
              "        var display = window.getComputedStyle(gd).display;\n",
              "        if (!display || display === 'none') {{\n",
              "            console.log([gd, 'removed!']);\n",
              "            Plotly.purge(gd);\n",
              "            observer.disconnect();\n",
              "        }}\n",
              "}});\n",
              "\n",
              "// Listen for the removal of the full notebook cells\n",
              "var notebookContainer = gd.closest('#notebook-container');\n",
              "if (notebookContainer) {{\n",
              "    x.observe(notebookContainer, {childList: true});\n",
              "}}\n",
              "\n",
              "// Listen for the clearing of the current output cell\n",
              "var outputEl = gd.closest('.output');\n",
              "if (outputEl) {{\n",
              "    x.observe(outputEl, {childList: true});\n",
              "}}\n",
              "\n",
              "                        })                };                            </script>        </div>\n",
              "</body>\n",
              "</html>"
            ]
          },
          "metadata": {}
        }
      ]
    }
  ]
}