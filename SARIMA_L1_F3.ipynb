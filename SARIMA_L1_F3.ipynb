{
  "nbformat": 4,
  "nbformat_minor": 0,
  "metadata": {
    "colab": {
      "provenance": []
    },
    "kernelspec": {
      "name": "python3",
      "display_name": "Python 3"
    },
    "language_info": {
      "name": "python"
    }
  },
  "cells": [
    {
      "cell_type": "markdown",
      "source": [
        "# SARIMA (Seasonal Autoregressive Integrated Moving Average)\n",
        "A versatile and widely used time series forecasting model. It’s an extension of the non-seasonal ARIMA model, designed to handle data with seasonal patterns. SARIMA captures both short-term and long-term dependencies within the data, making it a robust tool for forecasting. It combines the concepts of autoregressive (AR), integrated (I), and moving average (MA) models with seasonal components."
      ],
      "metadata": {
        "id": "ddzelWjmFRyu"
      }
    },
    {
      "cell_type": "code",
      "source": [
        "# @title Tools Imports\n",
        "import os\n",
        "import numpy as np\n",
        "import pandas as pd\n",
        "import matplotlib.pyplot as plt\n",
        "import plotly.graph_objects as go\n",
        "from google.colab import drive\n",
        "from sklearn.preprocessing import MinMaxScaler\n",
        "from sklearn.metrics import mean_squared_error, mean_absolute_error\n",
        "from sklearn.metrics import r2_score, mean_squared_log_error\n",
        "from statsmodels.tsa.statespace.sarimax import SARIMAX\n",
        "from statsmodels.tsa.holtwinters import ExponentialSmoothing\n",
        "from statsmodels.tsa.stattools import acf, pacf\n",
        "from statsmodels.graphics.tsaplots import plot_acf, plot_pacf\n",
        "from statsmodels.stats.diagnostic import acorr_ljungbox\n",
        "import warnings\n",
        "warnings.filterwarnings('ignore')"
      ],
      "metadata": {
        "id": "FP5W7prZA-j2"
      },
      "execution_count": 1,
      "outputs": []
    },
    {
      "cell_type": "code",
      "source": [
        "# @title GDrive Mount\n",
        "drive.mount('/content/gdrive/', force_remount=True)\n",
        "gdrive_path = '/content/gdrive' + '/My Drive/ked/'\n",
        "os.chdir(gdrive_path)\n",
        "cwd = os.getcwd()\n",
        "files = os.listdir(cwd)\n",
        "print(\"Files in %r: %s\" % (cwd, files))"
      ],
      "metadata": {
        "id": "ZBZszK2CF1FG",
        "colab": {
          "base_uri": "https://localhost:8080/"
        },
        "outputId": "0b1c269c-1d21-4f11-b5ff-609c6bd18149"
      },
      "execution_count": 2,
      "outputs": [
        {
          "output_type": "stream",
          "name": "stdout",
          "text": [
            "Mounted at /content/gdrive/\n",
            "Files in '/content/gdrive/My Drive/ked': ['augusta.csv', 'cleveland.csv', 'youngstown.csv', 'augusta_days.csv', 'augusta_.csv', 'logs.log']\n"
          ]
        }
      ]
    },
    {
      "cell_type": "code",
      "source": [
        "# @title Data Loading\n",
        "# Read csv to pandas\n",
        "data = pd.read_csv('augusta.csv')\n",
        "# Change datetime format\n",
        "data['date'] = pd.to_datetime(data['date'], errors='coerce', format='%Y%m')\n",
        "# Keep only the year and month in the date\n",
        "data['date'] = data['date'].dt.to_period('M')\n",
        "# Set date as index for the dataset\n",
        "data.set_index('date', inplace=True)\n",
        "# Change column name to 'y' to avoid hard coding when changing features\n",
        "data = data.rename(columns={'total return donor': 'y'})\n",
        "# Drop any missing values\n",
        "data = data.dropna()\n",
        "# Split data into training and testing sets\n",
        "train_size = int(0.8 * len(data))\n",
        "# First 80% for training and last 20% for testing\n",
        "train_data, test_data = data[:train_size], data[train_size:]\n",
        "# Verify that the split is correct by checking the shapes and continuity\n",
        "print(f\"Training Data Shape: {train_data.shape}\")\n",
        "print(f\"Testing Data Shape: {test_data.shape}\")\n",
        "print(f\"Total Data Shape: {data.shape}\")\n",
        "print(f\"Training Set First Date: {train_data.index[0]}\")\n",
        "print(f\"Training Set Last Date: {train_data.index[-1]}\")\n",
        "print(f\"Test Set First Date: {test_data.index[0]}\")\n",
        "print(f\"Test Set Last Date: {test_data.index[-1]}\")\n",
        "print(f\"\\nSample Training Data (Raw):\\n\", train_data['y'].head())\n",
        "print(f\"\\nSample Test Data (Raw):\\n\", test_data['y'].head())"
      ],
      "metadata": {
        "id": "Xs62w4LvGJhI",
        "colab": {
          "base_uri": "https://localhost:8080/"
        },
        "outputId": "f3e08fc8-9a63-42d4-abad-8e9a44682bdd"
      },
      "execution_count": 3,
      "outputs": [
        {
          "output_type": "stream",
          "name": "stdout",
          "text": [
            "Training Data Shape: (48, 10)\n",
            "Testing Data Shape: (12, 10)\n",
            "Total Data Shape: (60, 10)\n",
            "Training Set First Date: 2019-01\n",
            "Training Set Last Date: 2022-12\n",
            "Test Set First Date: 2023-01\n",
            "Test Set Last Date: 2023-12\n",
            "\n",
            "Sample Training Data (Raw):\n",
            " date\n",
            "2019-01    505\n",
            "2019-02    494\n",
            "2019-03    423\n",
            "2019-04    445\n",
            "2019-05    491\n",
            "Freq: M, Name: y, dtype: int64\n",
            "\n",
            "Sample Test Data (Raw):\n",
            " date\n",
            "2023-01    803\n",
            "2023-02    765\n",
            "2023-03    685\n",
            "2023-04    693\n",
            "2023-05    729\n",
            "Freq: M, Name: y, dtype: int64\n"
          ]
        }
      ]
    },
    {
      "cell_type": "code",
      "source": [
        "# @title Available Features\n",
        "data.columns"
      ],
      "metadata": {
        "colab": {
          "base_uri": "https://localhost:8080/"
        },
        "id": "68aBD0gmf4oM",
        "outputId": "ac08bb8f-b044-4651-edd2-cf64ba316235"
      },
      "execution_count": 4,
      "outputs": [
        {
          "output_type": "execute_result",
          "data": {
            "text/plain": [
              "Index(['total donor', 'new donor', 'y', 'return donor', 'month donor',\n",
              "       'total unit', 'new unit', 'total return unit', 'return unit',\n",
              "       'month unit'],\n",
              "      dtype='object')"
            ]
          },
          "metadata": {},
          "execution_count": 4
        }
      ]
    },
    {
      "source": [
        "# @title Selected Feature Data\n",
        "train_data_plot = train_data.index.to_timestamp()\n",
        "test_data_plot = test_data.index.to_timestamp()\n",
        "# Create a figure\n",
        "fig = go.Figure()\n",
        "# Add training data as a line plot\n",
        "fig.add_trace(go.Scatter(x=train_data_plot, y=train_data['y'], mode='lines', name='Training Data'))\n",
        "# Add test data as a line plot\n",
        "fig.add_trace(go.Scatter(x=test_data_plot, y=test_data['y'], mode='lines', name='Test Data'))\n",
        "# Customize the layout\n",
        "fig.update_layout(\n",
        "    title='Selected Feature',\n",
        "    xaxis_title='Date',\n",
        "    yaxis_title='Volume',\n",
        "    showlegend=True,\n",
        "    hovermode='x',\n",
        "    plot_bgcolor='rgba(0,0,0,0)',  # Make background transparent\n",
        "    xaxis=dict(showgrid=True),\n",
        "    yaxis=dict(showgrid=True),\n",
        ")\n",
        "# Show the plot\n",
        "fig.show()"
      ],
      "cell_type": "code",
      "execution_count": 5,
      "outputs": [
        {
          "output_type": "display_data",
          "data": {
            "text/html": [
              "<html>\n",
              "<head><meta charset=\"utf-8\" /></head>\n",
              "<body>\n",
              "    <div>            <script src=\"https://cdnjs.cloudflare.com/ajax/libs/mathjax/2.7.5/MathJax.js?config=TeX-AMS-MML_SVG\"></script><script type=\"text/javascript\">if (window.MathJax && window.MathJax.Hub && window.MathJax.Hub.Config) {window.MathJax.Hub.Config({SVG: {font: \"STIX-Web\"}});}</script>                <script type=\"text/javascript\">window.PlotlyConfig = {MathJaxConfig: 'local'};</script>\n",
              "        <script charset=\"utf-8\" src=\"https://cdn.plot.ly/plotly-2.35.2.min.js\"></script>                <div id=\"cbf7eafc-7cc9-44ef-9eb1-ba447f790881\" class=\"plotly-graph-div\" style=\"height:525px; width:100%;\"></div>            <script type=\"text/javascript\">                                    window.PLOTLYENV=window.PLOTLYENV || {};                                    if (document.getElementById(\"cbf7eafc-7cc9-44ef-9eb1-ba447f790881\")) {                    Plotly.newPlot(                        \"cbf7eafc-7cc9-44ef-9eb1-ba447f790881\",                        [{\"mode\":\"lines\",\"name\":\"Training Data\",\"x\":[\"2019-01-01T00:00:00\",\"2019-02-01T00:00:00\",\"2019-03-01T00:00:00\",\"2019-04-01T00:00:00\",\"2019-05-01T00:00:00\",\"2019-06-01T00:00:00\",\"2019-07-01T00:00:00\",\"2019-08-01T00:00:00\",\"2019-09-01T00:00:00\",\"2019-10-01T00:00:00\",\"2019-11-01T00:00:00\",\"2019-12-01T00:00:00\",\"2020-01-01T00:00:00\",\"2020-02-01T00:00:00\",\"2020-03-01T00:00:00\",\"2020-04-01T00:00:00\",\"2020-05-01T00:00:00\",\"2020-06-01T00:00:00\",\"2020-07-01T00:00:00\",\"2020-08-01T00:00:00\",\"2020-09-01T00:00:00\",\"2020-10-01T00:00:00\",\"2020-11-01T00:00:00\",\"2020-12-01T00:00:00\",\"2021-01-01T00:00:00\",\"2021-02-01T00:00:00\",\"2021-03-01T00:00:00\",\"2021-04-01T00:00:00\",\"2021-05-01T00:00:00\",\"2021-06-01T00:00:00\",\"2021-07-01T00:00:00\",\"2021-08-01T00:00:00\",\"2021-09-01T00:00:00\",\"2021-10-01T00:00:00\",\"2021-11-01T00:00:00\",\"2021-12-01T00:00:00\",\"2022-01-01T00:00:00\",\"2022-02-01T00:00:00\",\"2022-03-01T00:00:00\",\"2022-04-01T00:00:00\",\"2022-05-01T00:00:00\",\"2022-06-01T00:00:00\",\"2022-07-01T00:00:00\",\"2022-08-01T00:00:00\",\"2022-09-01T00:00:00\",\"2022-10-01T00:00:00\",\"2022-11-01T00:00:00\",\"2022-12-01T00:00:00\"],\"y\":[505,494,423,445,491,568,666,712,739,756,772,793,835,879,754,625,583,548,574,591,620,647,629,636,572,547,471,403,430,460,481,492,581,654,667,736,665,639,626,603,649,698,750,808,820,813,827,792],\"type\":\"scatter\"},{\"mode\":\"lines\",\"name\":\"Test Data\",\"x\":[\"2023-01-01T00:00:00\",\"2023-02-01T00:00:00\",\"2023-03-01T00:00:00\",\"2023-04-01T00:00:00\",\"2023-05-01T00:00:00\",\"2023-06-01T00:00:00\",\"2023-07-01T00:00:00\",\"2023-08-01T00:00:00\",\"2023-09-01T00:00:00\",\"2023-10-01T00:00:00\",\"2023-11-01T00:00:00\",\"2023-12-01T00:00:00\"],\"y\":[803,765,685,693,729,750,743,747,621,599,572,552],\"type\":\"scatter\"}],                        {\"template\":{\"data\":{\"histogram2dcontour\":[{\"type\":\"histogram2dcontour\",\"colorbar\":{\"outlinewidth\":0,\"ticks\":\"\"},\"colorscale\":[[0.0,\"#0d0887\"],[0.1111111111111111,\"#46039f\"],[0.2222222222222222,\"#7201a8\"],[0.3333333333333333,\"#9c179e\"],[0.4444444444444444,\"#bd3786\"],[0.5555555555555556,\"#d8576b\"],[0.6666666666666666,\"#ed7953\"],[0.7777777777777778,\"#fb9f3a\"],[0.8888888888888888,\"#fdca26\"],[1.0,\"#f0f921\"]]}],\"choropleth\":[{\"type\":\"choropleth\",\"colorbar\":{\"outlinewidth\":0,\"ticks\":\"\"}}],\"histogram2d\":[{\"type\":\"histogram2d\",\"colorbar\":{\"outlinewidth\":0,\"ticks\":\"\"},\"colorscale\":[[0.0,\"#0d0887\"],[0.1111111111111111,\"#46039f\"],[0.2222222222222222,\"#7201a8\"],[0.3333333333333333,\"#9c179e\"],[0.4444444444444444,\"#bd3786\"],[0.5555555555555556,\"#d8576b\"],[0.6666666666666666,\"#ed7953\"],[0.7777777777777778,\"#fb9f3a\"],[0.8888888888888888,\"#fdca26\"],[1.0,\"#f0f921\"]]}],\"heatmap\":[{\"type\":\"heatmap\",\"colorbar\":{\"outlinewidth\":0,\"ticks\":\"\"},\"colorscale\":[[0.0,\"#0d0887\"],[0.1111111111111111,\"#46039f\"],[0.2222222222222222,\"#7201a8\"],[0.3333333333333333,\"#9c179e\"],[0.4444444444444444,\"#bd3786\"],[0.5555555555555556,\"#d8576b\"],[0.6666666666666666,\"#ed7953\"],[0.7777777777777778,\"#fb9f3a\"],[0.8888888888888888,\"#fdca26\"],[1.0,\"#f0f921\"]]}],\"heatmapgl\":[{\"type\":\"heatmapgl\",\"colorbar\":{\"outlinewidth\":0,\"ticks\":\"\"},\"colorscale\":[[0.0,\"#0d0887\"],[0.1111111111111111,\"#46039f\"],[0.2222222222222222,\"#7201a8\"],[0.3333333333333333,\"#9c179e\"],[0.4444444444444444,\"#bd3786\"],[0.5555555555555556,\"#d8576b\"],[0.6666666666666666,\"#ed7953\"],[0.7777777777777778,\"#fb9f3a\"],[0.8888888888888888,\"#fdca26\"],[1.0,\"#f0f921\"]]}],\"contourcarpet\":[{\"type\":\"contourcarpet\",\"colorbar\":{\"outlinewidth\":0,\"ticks\":\"\"}}],\"contour\":[{\"type\":\"contour\",\"colorbar\":{\"outlinewidth\":0,\"ticks\":\"\"},\"colorscale\":[[0.0,\"#0d0887\"],[0.1111111111111111,\"#46039f\"],[0.2222222222222222,\"#7201a8\"],[0.3333333333333333,\"#9c179e\"],[0.4444444444444444,\"#bd3786\"],[0.5555555555555556,\"#d8576b\"],[0.6666666666666666,\"#ed7953\"],[0.7777777777777778,\"#fb9f3a\"],[0.8888888888888888,\"#fdca26\"],[1.0,\"#f0f921\"]]}],\"surface\":[{\"type\":\"surface\",\"colorbar\":{\"outlinewidth\":0,\"ticks\":\"\"},\"colorscale\":[[0.0,\"#0d0887\"],[0.1111111111111111,\"#46039f\"],[0.2222222222222222,\"#7201a8\"],[0.3333333333333333,\"#9c179e\"],[0.4444444444444444,\"#bd3786\"],[0.5555555555555556,\"#d8576b\"],[0.6666666666666666,\"#ed7953\"],[0.7777777777777778,\"#fb9f3a\"],[0.8888888888888888,\"#fdca26\"],[1.0,\"#f0f921\"]]}],\"mesh3d\":[{\"type\":\"mesh3d\",\"colorbar\":{\"outlinewidth\":0,\"ticks\":\"\"}}],\"scatter\":[{\"fillpattern\":{\"fillmode\":\"overlay\",\"size\":10,\"solidity\":0.2},\"type\":\"scatter\"}],\"parcoords\":[{\"type\":\"parcoords\",\"line\":{\"colorbar\":{\"outlinewidth\":0,\"ticks\":\"\"}}}],\"scatterpolargl\":[{\"type\":\"scatterpolargl\",\"marker\":{\"colorbar\":{\"outlinewidth\":0,\"ticks\":\"\"}}}],\"bar\":[{\"error_x\":{\"color\":\"#2a3f5f\"},\"error_y\":{\"color\":\"#2a3f5f\"},\"marker\":{\"line\":{\"color\":\"#E5ECF6\",\"width\":0.5},\"pattern\":{\"fillmode\":\"overlay\",\"size\":10,\"solidity\":0.2}},\"type\":\"bar\"}],\"scattergeo\":[{\"type\":\"scattergeo\",\"marker\":{\"colorbar\":{\"outlinewidth\":0,\"ticks\":\"\"}}}],\"scatterpolar\":[{\"type\":\"scatterpolar\",\"marker\":{\"colorbar\":{\"outlinewidth\":0,\"ticks\":\"\"}}}],\"histogram\":[{\"marker\":{\"pattern\":{\"fillmode\":\"overlay\",\"size\":10,\"solidity\":0.2}},\"type\":\"histogram\"}],\"scattergl\":[{\"type\":\"scattergl\",\"marker\":{\"colorbar\":{\"outlinewidth\":0,\"ticks\":\"\"}}}],\"scatter3d\":[{\"type\":\"scatter3d\",\"line\":{\"colorbar\":{\"outlinewidth\":0,\"ticks\":\"\"}},\"marker\":{\"colorbar\":{\"outlinewidth\":0,\"ticks\":\"\"}}}],\"scattermapbox\":[{\"type\":\"scattermapbox\",\"marker\":{\"colorbar\":{\"outlinewidth\":0,\"ticks\":\"\"}}}],\"scatterternary\":[{\"type\":\"scatterternary\",\"marker\":{\"colorbar\":{\"outlinewidth\":0,\"ticks\":\"\"}}}],\"scattercarpet\":[{\"type\":\"scattercarpet\",\"marker\":{\"colorbar\":{\"outlinewidth\":0,\"ticks\":\"\"}}}],\"carpet\":[{\"aaxis\":{\"endlinecolor\":\"#2a3f5f\",\"gridcolor\":\"white\",\"linecolor\":\"white\",\"minorgridcolor\":\"white\",\"startlinecolor\":\"#2a3f5f\"},\"baxis\":{\"endlinecolor\":\"#2a3f5f\",\"gridcolor\":\"white\",\"linecolor\":\"white\",\"minorgridcolor\":\"white\",\"startlinecolor\":\"#2a3f5f\"},\"type\":\"carpet\"}],\"table\":[{\"cells\":{\"fill\":{\"color\":\"#EBF0F8\"},\"line\":{\"color\":\"white\"}},\"header\":{\"fill\":{\"color\":\"#C8D4E3\"},\"line\":{\"color\":\"white\"}},\"type\":\"table\"}],\"barpolar\":[{\"marker\":{\"line\":{\"color\":\"#E5ECF6\",\"width\":0.5},\"pattern\":{\"fillmode\":\"overlay\",\"size\":10,\"solidity\":0.2}},\"type\":\"barpolar\"}],\"pie\":[{\"automargin\":true,\"type\":\"pie\"}]},\"layout\":{\"autotypenumbers\":\"strict\",\"colorway\":[\"#636efa\",\"#EF553B\",\"#00cc96\",\"#ab63fa\",\"#FFA15A\",\"#19d3f3\",\"#FF6692\",\"#B6E880\",\"#FF97FF\",\"#FECB52\"],\"font\":{\"color\":\"#2a3f5f\"},\"hovermode\":\"closest\",\"hoverlabel\":{\"align\":\"left\"},\"paper_bgcolor\":\"white\",\"plot_bgcolor\":\"#E5ECF6\",\"polar\":{\"bgcolor\":\"#E5ECF6\",\"angularaxis\":{\"gridcolor\":\"white\",\"linecolor\":\"white\",\"ticks\":\"\"},\"radialaxis\":{\"gridcolor\":\"white\",\"linecolor\":\"white\",\"ticks\":\"\"}},\"ternary\":{\"bgcolor\":\"#E5ECF6\",\"aaxis\":{\"gridcolor\":\"white\",\"linecolor\":\"white\",\"ticks\":\"\"},\"baxis\":{\"gridcolor\":\"white\",\"linecolor\":\"white\",\"ticks\":\"\"},\"caxis\":{\"gridcolor\":\"white\",\"linecolor\":\"white\",\"ticks\":\"\"}},\"coloraxis\":{\"colorbar\":{\"outlinewidth\":0,\"ticks\":\"\"}},\"colorscale\":{\"sequential\":[[0.0,\"#0d0887\"],[0.1111111111111111,\"#46039f\"],[0.2222222222222222,\"#7201a8\"],[0.3333333333333333,\"#9c179e\"],[0.4444444444444444,\"#bd3786\"],[0.5555555555555556,\"#d8576b\"],[0.6666666666666666,\"#ed7953\"],[0.7777777777777778,\"#fb9f3a\"],[0.8888888888888888,\"#fdca26\"],[1.0,\"#f0f921\"]],\"sequentialminus\":[[0.0,\"#0d0887\"],[0.1111111111111111,\"#46039f\"],[0.2222222222222222,\"#7201a8\"],[0.3333333333333333,\"#9c179e\"],[0.4444444444444444,\"#bd3786\"],[0.5555555555555556,\"#d8576b\"],[0.6666666666666666,\"#ed7953\"],[0.7777777777777778,\"#fb9f3a\"],[0.8888888888888888,\"#fdca26\"],[1.0,\"#f0f921\"]],\"diverging\":[[0,\"#8e0152\"],[0.1,\"#c51b7d\"],[0.2,\"#de77ae\"],[0.3,\"#f1b6da\"],[0.4,\"#fde0ef\"],[0.5,\"#f7f7f7\"],[0.6,\"#e6f5d0\"],[0.7,\"#b8e186\"],[0.8,\"#7fbc41\"],[0.9,\"#4d9221\"],[1,\"#276419\"]]},\"xaxis\":{\"gridcolor\":\"white\",\"linecolor\":\"white\",\"ticks\":\"\",\"title\":{\"standoff\":15},\"zerolinecolor\":\"white\",\"automargin\":true,\"zerolinewidth\":2},\"yaxis\":{\"gridcolor\":\"white\",\"linecolor\":\"white\",\"ticks\":\"\",\"title\":{\"standoff\":15},\"zerolinecolor\":\"white\",\"automargin\":true,\"zerolinewidth\":2},\"scene\":{\"xaxis\":{\"backgroundcolor\":\"#E5ECF6\",\"gridcolor\":\"white\",\"linecolor\":\"white\",\"showbackground\":true,\"ticks\":\"\",\"zerolinecolor\":\"white\",\"gridwidth\":2},\"yaxis\":{\"backgroundcolor\":\"#E5ECF6\",\"gridcolor\":\"white\",\"linecolor\":\"white\",\"showbackground\":true,\"ticks\":\"\",\"zerolinecolor\":\"white\",\"gridwidth\":2},\"zaxis\":{\"backgroundcolor\":\"#E5ECF6\",\"gridcolor\":\"white\",\"linecolor\":\"white\",\"showbackground\":true,\"ticks\":\"\",\"zerolinecolor\":\"white\",\"gridwidth\":2}},\"shapedefaults\":{\"line\":{\"color\":\"#2a3f5f\"}},\"annotationdefaults\":{\"arrowcolor\":\"#2a3f5f\",\"arrowhead\":0,\"arrowwidth\":1},\"geo\":{\"bgcolor\":\"white\",\"landcolor\":\"#E5ECF6\",\"subunitcolor\":\"white\",\"showland\":true,\"showlakes\":true,\"lakecolor\":\"white\"},\"title\":{\"x\":0.05},\"mapbox\":{\"style\":\"light\"}}},\"xaxis\":{\"title\":{\"text\":\"Date\"},\"showgrid\":true},\"yaxis\":{\"title\":{\"text\":\"Volume\"},\"showgrid\":true},\"title\":{\"text\":\"Selected Feature\"},\"showlegend\":true,\"hovermode\":\"x\",\"plot_bgcolor\":\"rgba(0,0,0,0)\"},                        {\"responsive\": true}                    ).then(function(){\n",
              "                            \n",
              "var gd = document.getElementById('cbf7eafc-7cc9-44ef-9eb1-ba447f790881');\n",
              "var x = new MutationObserver(function (mutations, observer) {{\n",
              "        var display = window.getComputedStyle(gd).display;\n",
              "        if (!display || display === 'none') {{\n",
              "            console.log([gd, 'removed!']);\n",
              "            Plotly.purge(gd);\n",
              "            observer.disconnect();\n",
              "        }}\n",
              "}});\n",
              "\n",
              "// Listen for the removal of the full notebook cells\n",
              "var notebookContainer = gd.closest('#notebook-container');\n",
              "if (notebookContainer) {{\n",
              "    x.observe(notebookContainer, {childList: true});\n",
              "}}\n",
              "\n",
              "// Listen for the clearing of the current output cell\n",
              "var outputEl = gd.closest('.output');\n",
              "if (outputEl) {{\n",
              "    x.observe(outputEl, {childList: true});\n",
              "}}\n",
              "\n",
              "                        })                };                            </script>        </div>\n",
              "</body>\n",
              "</html>"
            ]
          },
          "metadata": {}
        }
      ],
      "metadata": {
        "colab": {
          "base_uri": "https://localhost:8080/",
          "height": 542
        },
        "id": "GIoJIG6z6ztB",
        "outputId": "a8de026c-7a4e-4132-d621-aa24672ebec7"
      }
    },
    {
      "cell_type": "code",
      "source": [
        "# @title Holt-Winters Exponential Smoothing\n",
        "# Exponential smoothing refers to the use of an exponentially weighted moving average to “smooth” a time series.\n",
        "hw_model = ExponentialSmoothing(\n",
        "                          train_data['y'],\n",
        "                          seasonal='add',\n",
        "                          seasonal_periods=12\n",
        "                          ).fit()\n",
        "train_data['y'] = hw_model.fittedvalues\n",
        "print(f\"\\nSample Training Data (Smoothed):\\n\", train_data['y'].head())\n",
        "print(f\"\\nSample Test Data (Raw):\\n\", test_data['y'].head())"
      ],
      "metadata": {
        "colab": {
          "base_uri": "https://localhost:8080/"
        },
        "id": "RXGQwcVy_ofR",
        "outputId": "168a4258-0b5b-4028-e47a-6cc529cbd710"
      },
      "execution_count": 6,
      "outputs": [
        {
          "output_type": "stream",
          "name": "stdout",
          "text": [
            "\n",
            "Sample Training Data (Smoothed):\n",
            " date\n",
            "2019-01    506.246600\n",
            "2019-02    495.088089\n",
            "2019-03    416.948722\n",
            "2019-04    367.569477\n",
            "2019-05    458.675475\n",
            "Freq: M, Name: y, dtype: float64\n",
            "\n",
            "Sample Test Data (Raw):\n",
            " date\n",
            "2023-01    803\n",
            "2023-02    765\n",
            "2023-03    685\n",
            "2023-04    693\n",
            "2023-05    729\n",
            "Freq: M, Name: y, dtype: int64\n"
          ]
        }
      ]
    },
    {
      "cell_type": "code",
      "source": [
        "# @title Calculate ACF and PACF\n",
        "# (ACF) The Autocorrelation Function describes the correlation between observations\n",
        "# of a time series at two points in time, separated by a specific lag k.\n",
        "# Essentially, it quantifies how a value in the time series is related to its previous values.\n",
        "# (PACF) While the ACF measures the correlation between two points with a given lag,\n",
        "# it doesn’t account for the influence of other intervening observations.\n",
        "# The PACF remedies this by measuring the correlation between two points,\n",
        "# controlling for the values at all shorter lags.\n",
        "# Set the number of lags to check\n",
        "nlags = 6\n",
        "# ACF\n",
        "acf_values, confint_acf = acf(train_data['y'], alpha=0.05, nlags=nlags)\n",
        "# PACF\n",
        "pacf_values, confint_pacf = pacf(train_data['y'], alpha=0.05, nlags=nlags)\n",
        "# Plot ACF and PACF\n",
        "plt.figure(figsize=(12, 6))\n",
        "# Plot ACF\n",
        "plt.subplot(211)\n",
        "plot_acf(train_data['y'], ax=plt.gca(), lags=nlags)\n",
        "plt.title('ACF for Smoothed Training Data')\n",
        "# Plot PACF\n",
        "plt.subplot(212)\n",
        "plot_pacf(train_data['y'], ax=plt.gca(), lags=nlags)\n",
        "plt.title('PACF for Smoothed Training Data')\n",
        "# Show\n",
        "plt.tight_layout()\n",
        "plt.show()\n",
        "# Find recommended lags programmatically\n",
        "# Find the first lag where the ACF value is within the confidence interval (for MA term)\n",
        "upper_confidence_bound_acf = confint_acf[:, 1]\n",
        "recommended_ma_lag = np.where(acf_values < upper_confidence_bound_acf)[0][0]\n",
        "# Find the first lag where the PACF value is within the confidence interval (for AR term)\n",
        "upper_confidence_bound_pacf = confint_pacf[:, 1]\n",
        "recommended_ar_lag = np.where(pacf_values < upper_confidence_bound_pacf)[0][0]\n",
        "print(f\"Recommended Moving Average (MA) Lag (from ACF): {recommended_ma_lag}\")\n",
        "print(f\"Recommended Autoregressive (AR) Lag (from PACF): {recommended_ar_lag}\")"
      ],
      "metadata": {
        "colab": {
          "base_uri": "https://localhost:8080/",
          "height": 643
        },
        "id": "APJgz0cU_oUV",
        "outputId": "5b9ae567-09cd-49b3-bc53-dd30c98392c2"
      },
      "execution_count": 7,
      "outputs": [
        {
          "output_type": "display_data",
          "data": {
            "text/plain": [
              "<Figure size 1200x600 with 2 Axes>"
            ],
            "image/png": "[encoded data removed]"
          },
          "metadata": {}
        },
        {
          "output_type": "stream",
          "name": "stdout",
          "text": [
            "Recommended Moving Average (MA) Lag (from ACF): 1\n",
            "Recommended Autoregressive (AR) Lag (from PACF): 1\n"
          ]
        }
      ]
    },
    {
      "cell_type": "code",
      "source": [
        "# @title Scaling Training and Test Data\n",
        "def scale_data(train_data, test_data):\n",
        "    scaler = MinMaxScaler()\n",
        "    train_scaled = scaler.fit_transform(train_data.values.reshape(-1, 1))\n",
        "    test_scaled = scaler.transform(test_data.values.reshape(-1, 1))\n",
        "    return train_scaled, test_scaled\n",
        "train_data['y'], test_data['y'] = scale_data(train_data['y'], test_data['y'])\n",
        "# Metrics\n",
        "print(f\"Training Data Shape: {train_data.shape}\")\n",
        "print(f\"Testing Data Shape: {test_data.shape}\")\n",
        "print(f\"\\nSample Training Data (Scaled):\\n\", train_data['y'].head())\n",
        "print(f\"\\nSample Test Data (Scaled):\\n\", test_data['y'].head())\n",
        "# Convert scaled data back to DataFrame for SARIMA\n",
        "train_data_scaled = pd.DataFrame(train_data['y'], index=train_data.index, columns=['y'])\n",
        "test_data_scaled = pd.DataFrame(test_data['y'], index=test_data.index, columns=['y'])\n",
        "# Combine scaled train and test data\n",
        "data_scaled = pd.concat([train_data_scaled, test_data_scaled])"
      ],
      "metadata": {
        "colab": {
          "base_uri": "https://localhost:8080/"
        },
        "id": "Ug_YKSbxG8s5",
        "outputId": "62be544c-102e-4173-9c6a-e32ba60ba5b8"
      },
      "execution_count": 8,
      "outputs": [
        {
          "output_type": "stream",
          "name": "stdout",
          "text": [
            "Training Data Shape: (48, 10)\n",
            "Testing Data Shape: (12, 10)\n",
            "\n",
            "Sample Training Data (Scaled):\n",
            " date\n",
            "2019-01    0.293178\n",
            "2019-02    0.269588\n",
            "2019-03    0.104393\n",
            "2019-04    0.000000\n",
            "2019-05    0.192608\n",
            "Freq: M, Name: y, dtype: float64\n",
            "\n",
            "Sample Test Data (Scaled):\n",
            " date\n",
            "2023-01    0.920547\n",
            "2023-02    0.840211\n",
            "2023-03    0.671082\n",
            "2023-04    0.687995\n",
            "2023-05    0.764103\n",
            "Freq: M, Name: y, dtype: float64\n"
          ]
        }
      ]
    },
    {
      "cell_type": "code",
      "source": [
        "# @title SARIMA Model\n",
        "# SARIMA model fitting and forecasting\n",
        "def model_sarima(train_data, step_size, p, d, q, P, D, Q, s):\n",
        "    model = SARIMAX(train_data, order=(p, d, q), seasonal_order=(P, D, Q, s))\n",
        "    model_fit = model.fit(disp=False)\n",
        "    prediction = model_fit.forecast(steps=step_size)\n",
        "    return prediction, model_fit\n",
        "# Cross-validation for SARIMA\n",
        "def sarima(data, feature_name, initial_window_size, step_size, p, d, q, P, D, Q, s):\n",
        "    window_size = initial_window_size\n",
        "    predictions = pd.Series(dtype='float64', index=data.index)\n",
        "    # Sliding window approach for time series cross-validation\n",
        "    while window_size + step_size <= len(data):\n",
        "        train_data = data[feature_name][:window_size]\n",
        "        test_data = data[feature_name][window_size:window_size + step_size]\n",
        "        # prediction\n",
        "        prediction, model_fit = model_sarima(train_data, step_size, p, d, q, P, D, Q, s)\n",
        "        prediction.index = test_data.index\n",
        "        predictions[test_data.index] = prediction\n",
        "        window_size += step_size\n",
        "    return data[feature_name][initial_window_size:], predictions[initial_window_size:], model_fit"
      ],
      "metadata": {
        "id": "NJVBsDMfVsCo"
      },
      "execution_count": 9,
      "outputs": []
    },
    {
      "cell_type": "code",
      "source": [
        "# @title Model Evaluation\n",
        "parameter_sets = [\n",
        "    {'p': 1, 'd': 0, 'q': 0, 'P': 1, 'D': 0, 'Q': 0, 's': 12},\n",
        "    # {'p': 1, 'd': 1, 'q': 1, 'P': 1, 'D': 0, 'Q': 1, 's': 12},\n",
        "    # {'p': 1, 'd': 1, 'q': 0, 'P': 1, 'D': 1, 'Q': 0, 's': 12},\n",
        "    # {'p': 1, 'd': 1, 'q': 0, 'P': 1, 'D': 0, 'Q': 0, 's': 12},\n",
        "    # {'p': 1, 'd': 0, 'q': 1, 'P': 1, 'D': 0, 'Q': 1, 's': 12},\n",
        "    # {'p': 1, 'd': 0, 'q': 0, 'P': 1, 'D': 1, 'Q': 0, 's': 12},\n",
        "    # {'p': 2, 'd': 0, 'q': 0, 'P': 2, 'D': 0, 'Q': 0, 's': 12},\n",
        "    # {'p': 2, 'd': 1, 'q': 0, 'P': 1, 'D': 0, 'Q': 0, 's': 12},\n",
        "    # {'p': 2, 'd': 1, 'q': 0, 'P': 1, 'D': 1, 'Q': 0, 's': 12},\n",
        "    # {'p': 2, 'd': 1, 'q': 0, 'P': 2, 'D': 1, 'Q': 0, 's': 12},\n",
        "]\n",
        "# Cross-validation: Test different parameter sets and plot results\n",
        "for params in parameter_sets:\n",
        "    test, forecast, model = sarima(\n",
        "        data_scaled,\n",
        "        'y',\n",
        "        initial_window_size=48,\n",
        "        step_size=1,\n",
        "        p=params['p'],\n",
        "        d=params['d'],\n",
        "        q=params['q'],\n",
        "        P=params['P'],\n",
        "        D=params['D'],\n",
        "        Q=params['Q'],\n",
        "        s=params['s']\n",
        "    )\n",
        "    # Remove any NaN values in test and forecast\n",
        "    test = test.dropna()\n",
        "    forecast = forecast.dropna()\n",
        "    # Align the indices of the test and forecast data\n",
        "    test, forecast = test.align(forecast, join='inner')\n",
        "    # Print params\n",
        "    print(f\"Params: {params}\")\n",
        "    # Check if test or forecast is empty\n",
        "    if test.empty or forecast.empty:\n",
        "        print(\"Test or forecast data is empty after aligning indices.\")\n",
        "        continue\n",
        "    # Calculate evaluation metrics\n",
        "    def mean_absolute_percentage_error(y_true, y_pred):\n",
        "        return np.mean(np.abs((y_true - y_pred) / y_true)) * 100\n",
        "    bic = model.bic  # Extract the BIC from the fitted SARIMA model\n",
        "    mse = mean_squared_error(test, forecast)\n",
        "    mae = mean_absolute_error(test, forecast)\n",
        "    r2 = r2_score(test, forecast)\n",
        "    rmse = np.sqrt(mse)\n",
        "    mape = mean_absolute_percentage_error(test, forecast)\n",
        "    msle = mean_squared_log_error(test, forecast)\n",
        "    residuals = test - forecast\n",
        "    lb_test = acorr_ljungbox(residuals, lags=[6], return_df=True)['lb_pvalue'].values[0]\n",
        "    # Print metrics\n",
        "    # Average magnitude of errors in predictions, without considering their direction\n",
        "    print(f'MAE: {mae}') # Indicates average absolute error\n",
        "    # Average difference between a statistical model's predicted values and the actual values\n",
        "    print(f'RMSE: {rmse}') # Penalizes large errors more\n",
        "    # Prediction accuracy of a forecasting method in statistics\n",
        "    print(f'MAPE: {mape}') # Useful to report the error in percentage terms\n",
        "    # Coefficient of determination, the proportion of variance in a dependent variable that can be predicted or explained by an independent variable\n",
        "    print(f'R²: {r2}') # For explaining how much variance the model captures\n",
        "    # Bayesian Information Criterion: evaluates how well the model fits the data relative to its complexity\n",
        "    print(f'BIC: {bic}') # For balancing fit vs. complexity\n",
        "    # Average of the squares of the errors\n",
        "    print(f'MSE: {mse}')\n",
        "    # Average of the squared differences between the logarithms of the predicted and actual values\n",
        "    print(f'MSLE: {msle}')\n",
        "    # High p-value (> 0.05): No significant autocorrelation in residuals, meaning the model is good at capturing the data structure\n",
        "    print(f'Ljung-Box Test p-value: {lb_test}\\n') # To confirm the residuals have no significant autocorrelation\n",
        "    # Interactive Plot using Plotly\n",
        "    training_data = data_scaled['y'][:train_size]\n",
        "    testing_data = test\n",
        "    forecast_data = forecast\n",
        "    train_idx = train_data.index.to_timestamp()\n",
        "    test_idx = test_data.index.to_timestamp()\n",
        "    forecast_idx = test_data.index.to_timestamp()\n",
        "    # Plot using Plotly\n",
        "    fig = go.Figure()\n",
        "    # Training data\n",
        "    fig.add_trace(go.Scatter(x=train_idx, y=training_data, mode='lines', name='Training Data'))\n",
        "    # Testing data\n",
        "    fig.add_trace(go.Scatter(x=test_idx, y=testing_data, mode='lines', name='Testing Data'))\n",
        "    # Forecast data\n",
        "    fig.add_trace(go.Scatter(x=forecast_idx, y=forecast_data, mode='lines', name='Forecast'))\n",
        "    # Add titles and labels\n",
        "    fig.update_layout(\n",
        "        title=f\"SARIMA Forecast vs Actual (Params: {params})\",\n",
        "        xaxis_title='Date',\n",
        "        yaxis_title='Scaled Values',\n",
        "        legend_title='Legend',\n",
        "        hovermode='x'\n",
        "    )\n",
        "    # Show the interactive plot\n",
        "    fig.show()"
      ],
      "metadata": {
        "colab": {
          "base_uri": "https://localhost:8080/",
          "height": 721
        },
        "id": "FRVpZ8z3G8dQ",
        "outputId": "f7cef2b2-2cb3-4e07-b265-4ad28ef6a8cd"
      },
      "execution_count": 10,
      "outputs": [
        {
          "output_type": "stream",
          "name": "stdout",
          "text": [
            "Params: {'p': 1, 'd': 0, 'q': 0, 'P': 1, 'D': 0, 'Q': 0, 's': 12}\n",
            "MAE: 0.06662119810186927\n",
            "RMSE: 0.09972948112669124\n",
            "MAPE: 11.1360890083657\n",
            "R²: 0.6466818505049559\n",
            "BIC: -85.58931325967194\n",
            "MSE: 0.009945969405799063\n",
            "MSLE: 0.0034882698892050854\n",
            "Ljung-Box Test p-value: 0.6338366394544086\n",
            "\n"
          ]
        },
        {
          "output_type": "display_data",
          "data": {
            "text/html": [
              "<html>\n",
              "<head><meta charset=\"utf-8\" /></head>\n",
              "<body>\n",
              "    <div>            <script src=\"https://cdnjs.cloudflare.com/ajax/libs/mathjax/2.7.5/MathJax.js?config=TeX-AMS-MML_SVG\"></script><script type=\"text/javascript\">if (window.MathJax && window.MathJax.Hub && window.MathJax.Hub.Config) {window.MathJax.Hub.Config({SVG: {font: \"STIX-Web\"}});}</script>                <script type=\"text/javascript\">window.PlotlyConfig = {MathJaxConfig: 'local'};</script>\n",
              "        <script charset=\"utf-8\" src=\"https://cdn.plot.ly/plotly-2.35.2.min.js\"></script>                <div id=\"a0f7329d-3cc5-4b87-9cb7-614a46a05ee1\" class=\"plotly-graph-div\" style=\"height:525px; width:100%;\"></div>            <script type=\"text/javascript\">                                    window.PLOTLYENV=window.PLOTLYENV || {};                                    if (document.getElementById(\"a0f7329d-3cc5-4b87-9cb7-614a46a05ee1\")) {                    Plotly.newPlot(                        \"a0f7329d-3cc5-4b87-9cb7-614a46a05ee1\",                        [{\"mode\":\"lines\",\"name\":\"Training Data\",\"x\":[\"2019-01-01T00:00:00\",\"2019-02-01T00:00:00\",\"2019-03-01T00:00:00\",\"2019-04-01T00:00:00\",\"2019-05-01T00:00:00\",\"2019-06-01T00:00:00\",\"2019-07-01T00:00:00\",\"2019-08-01T00:00:00\",\"2019-09-01T00:00:00\",\"2019-10-01T00:00:00\",\"2019-11-01T00:00:00\",\"2019-12-01T00:00:00\",\"2020-01-01T00:00:00\",\"2020-02-01T00:00:00\",\"2020-03-01T00:00:00\",\"2020-04-01T00:00:00\",\"2020-05-01T00:00:00\",\"2020-06-01T00:00:00\",\"2020-07-01T00:00:00\",\"2020-08-01T00:00:00\",\"2020-09-01T00:00:00\",\"2020-10-01T00:00:00\",\"2020-11-01T00:00:00\",\"2020-12-01T00:00:00\",\"2021-01-01T00:00:00\",\"2021-02-01T00:00:00\",\"2021-03-01T00:00:00\",\"2021-04-01T00:00:00\",\"2021-05-01T00:00:00\",\"2021-06-01T00:00:00\",\"2021-07-01T00:00:00\",\"2021-08-01T00:00:00\",\"2021-09-01T00:00:00\",\"2021-10-01T00:00:00\",\"2021-11-01T00:00:00\",\"2021-12-01T00:00:00\",\"2022-01-01T00:00:00\",\"2022-02-01T00:00:00\",\"2022-03-01T00:00:00\",\"2022-04-01T00:00:00\",\"2022-05-01T00:00:00\",\"2022-06-01T00:00:00\",\"2022-07-01T00:00:00\",\"2022-08-01T00:00:00\",\"2022-09-01T00:00:00\",\"2022-10-01T00:00:00\",\"2022-11-01T00:00:00\",\"2022-12-01T00:00:00\"],\"y\":[0.2931783318439617,0.26958804128688574,0.1043930257011364,0.0,0.19260786402789376,0.31636391753926063,0.5176665189092474,0.6866357597062563,0.797246646698755,0.8284500341873934,0.8236077090015476,0.8797673121112591,0.8217724651483264,0.9655929897415666,0.9171730974373727,0.7008728532403142,0.5762745058738717,0.5127085999309086,0.47771401298137495,0.4936466510268668,0.5420529175158749,0.5768359621351419,0.5929632676638604,0.578149673346516,0.49015340067029733,0.4117734008663919,0.21673492232162594,0.1015832342100691,0.10567392777937934,0.18781366205318517,0.2903169862513336,0.29712462753600055,0.33288100064263937,0.4931486298553286,0.606800524083457,0.6578365497845765,0.700278155842761,0.6085173129707805,0.41125473420198755,0.4279698111440152,0.5275539489442159,0.6504018416638347,0.793078475466784,0.8651758326418478,0.9999626200103257,1.0,0.9446101656139988,0.996089374700586],\"type\":\"scatter\"},{\"mode\":\"lines\",\"name\":\"Testing Data\",\"x\":[\"2023-01-01T00:00:00\",\"2023-02-01T00:00:00\",\"2023-03-01T00:00:00\",\"2023-04-01T00:00:00\",\"2023-05-01T00:00:00\",\"2023-06-01T00:00:00\",\"2023-07-01T00:00:00\",\"2023-08-01T00:00:00\",\"2023-09-01T00:00:00\",\"2023-10-01T00:00:00\",\"2023-11-01T00:00:00\",\"2023-12-01T00:00:00\"],\"y\":[0.9205468912213107,0.8402108099277158,0.671082217730674,0.6879950769503781,0.7641029434390468,0.8084991988907705,0.7937004470735293,0.8021568766833814,0.5357793439730404,0.48926898111885386,0.4321880812523523,0.38990593320309175],\"type\":\"scatter\"},{\"mode\":\"lines\",\"name\":\"Forecast\",\"x\":[\"2023-01-01T00:00:00\",\"2023-02-01T00:00:00\",\"2023-03-01T00:00:00\",\"2023-04-01T00:00:00\",\"2023-05-01T00:00:00\",\"2023-06-01T00:00:00\",\"2023-07-01T00:00:00\",\"2023-08-01T00:00:00\",\"2023-09-01T00:00:00\",\"2023-10-01T00:00:00\",\"2023-11-01T00:00:00\",\"2023-12-01T00:00:00\"],\"y\":[0.9926353135151754,0.8826137390541469,0.7729120421746197,0.6628465260391795,0.7065791816320096,0.7915152967534075,0.8518585798039906,0.804759305253964,0.8343501854220556,0.5275767616201922,0.46908841587072614,0.4388434018359114],\"type\":\"scatter\"}],                        {\"template\":{\"data\":{\"histogram2dcontour\":[{\"type\":\"histogram2dcontour\",\"colorbar\":{\"outlinewidth\":0,\"ticks\":\"\"},\"colorscale\":[[0.0,\"#0d0887\"],[0.1111111111111111,\"#46039f\"],[0.2222222222222222,\"#7201a8\"],[0.3333333333333333,\"#9c179e\"],[0.4444444444444444,\"#bd3786\"],[0.5555555555555556,\"#d8576b\"],[0.6666666666666666,\"#ed7953\"],[0.7777777777777778,\"#fb9f3a\"],[0.8888888888888888,\"#fdca26\"],[1.0,\"#f0f921\"]]}],\"choropleth\":[{\"type\":\"choropleth\",\"colorbar\":{\"outlinewidth\":0,\"ticks\":\"\"}}],\"histogram2d\":[{\"type\":\"histogram2d\",\"colorbar\":{\"outlinewidth\":0,\"ticks\":\"\"},\"colorscale\":[[0.0,\"#0d0887\"],[0.1111111111111111,\"#46039f\"],[0.2222222222222222,\"#7201a8\"],[0.3333333333333333,\"#9c179e\"],[0.4444444444444444,\"#bd3786\"],[0.5555555555555556,\"#d8576b\"],[0.6666666666666666,\"#ed7953\"],[0.7777777777777778,\"#fb9f3a\"],[0.8888888888888888,\"#fdca26\"],[1.0,\"#f0f921\"]]}],\"heatmap\":[{\"type\":\"heatmap\",\"colorbar\":{\"outlinewidth\":0,\"ticks\":\"\"},\"colorscale\":[[0.0,\"#0d0887\"],[0.1111111111111111,\"#46039f\"],[0.2222222222222222,\"#7201a8\"],[0.3333333333333333,\"#9c179e\"],[0.4444444444444444,\"#bd3786\"],[0.5555555555555556,\"#d8576b\"],[0.6666666666666666,\"#ed7953\"],[0.7777777777777778,\"#fb9f3a\"],[0.8888888888888888,\"#fdca26\"],[1.0,\"#f0f921\"]]}],\"heatmapgl\":[{\"type\":\"heatmapgl\",\"colorbar\":{\"outlinewidth\":0,\"ticks\":\"\"},\"colorscale\":[[0.0,\"#0d0887\"],[0.1111111111111111,\"#46039f\"],[0.2222222222222222,\"#7201a8\"],[0.3333333333333333,\"#9c179e\"],[0.4444444444444444,\"#bd3786\"],[0.5555555555555556,\"#d8576b\"],[0.6666666666666666,\"#ed7953\"],[0.7777777777777778,\"#fb9f3a\"],[0.8888888888888888,\"#fdca26\"],[1.0,\"#f0f921\"]]}],\"contourcarpet\":[{\"type\":\"contourcarpet\",\"colorbar\":{\"outlinewidth\":0,\"ticks\":\"\"}}],\"contour\":[{\"type\":\"contour\",\"colorbar\":{\"outlinewidth\":0,\"ticks\":\"\"},\"colorscale\":[[0.0,\"#0d0887\"],[0.1111111111111111,\"#46039f\"],[0.2222222222222222,\"#7201a8\"],[0.3333333333333333,\"#9c179e\"],[0.4444444444444444,\"#bd3786\"],[0.5555555555555556,\"#d8576b\"],[0.6666666666666666,\"#ed7953\"],[0.7777777777777778,\"#fb9f3a\"],[0.8888888888888888,\"#fdca26\"],[1.0,\"#f0f921\"]]}],\"surface\":[{\"type\":\"surface\",\"colorbar\":{\"outlinewidth\":0,\"ticks\":\"\"},\"colorscale\":[[0.0,\"#0d0887\"],[0.1111111111111111,\"#46039f\"],[0.2222222222222222,\"#7201a8\"],[0.3333333333333333,\"#9c179e\"],[0.4444444444444444,\"#bd3786\"],[0.5555555555555556,\"#d8576b\"],[0.6666666666666666,\"#ed7953\"],[0.7777777777777778,\"#fb9f3a\"],[0.8888888888888888,\"#fdca26\"],[1.0,\"#f0f921\"]]}],\"mesh3d\":[{\"type\":\"mesh3d\",\"colorbar\":{\"outlinewidth\":0,\"ticks\":\"\"}}],\"scatter\":[{\"fillpattern\":{\"fillmode\":\"overlay\",\"size\":10,\"solidity\":0.2},\"type\":\"scatter\"}],\"parcoords\":[{\"type\":\"parcoords\",\"line\":{\"colorbar\":{\"outlinewidth\":0,\"ticks\":\"\"}}}],\"scatterpolargl\":[{\"type\":\"scatterpolargl\",\"marker\":{\"colorbar\":{\"outlinewidth\":0,\"ticks\":\"\"}}}],\"bar\":[{\"error_x\":{\"color\":\"#2a3f5f\"},\"error_y\":{\"color\":\"#2a3f5f\"},\"marker\":{\"line\":{\"color\":\"#E5ECF6\",\"width\":0.5},\"pattern\":{\"fillmode\":\"overlay\",\"size\":10,\"solidity\":0.2}},\"type\":\"bar\"}],\"scattergeo\":[{\"type\":\"scattergeo\",\"marker\":{\"colorbar\":{\"outlinewidth\":0,\"ticks\":\"\"}}}],\"scatterpolar\":[{\"type\":\"scatterpolar\",\"marker\":{\"colorbar\":{\"outlinewidth\":0,\"ticks\":\"\"}}}],\"histogram\":[{\"marker\":{\"pattern\":{\"fillmode\":\"overlay\",\"size\":10,\"solidity\":0.2}},\"type\":\"histogram\"}],\"scattergl\":[{\"type\":\"scattergl\",\"marker\":{\"colorbar\":{\"outlinewidth\":0,\"ticks\":\"\"}}}],\"scatter3d\":[{\"type\":\"scatter3d\",\"line\":{\"colorbar\":{\"outlinewidth\":0,\"ticks\":\"\"}},\"marker\":{\"colorbar\":{\"outlinewidth\":0,\"ticks\":\"\"}}}],\"scattermapbox\":[{\"type\":\"scattermapbox\",\"marker\":{\"colorbar\":{\"outlinewidth\":0,\"ticks\":\"\"}}}],\"scatterternary\":[{\"type\":\"scatterternary\",\"marker\":{\"colorbar\":{\"outlinewidth\":0,\"ticks\":\"\"}}}],\"scattercarpet\":[{\"type\":\"scattercarpet\",\"marker\":{\"colorbar\":{\"outlinewidth\":0,\"ticks\":\"\"}}}],\"carpet\":[{\"aaxis\":{\"endlinecolor\":\"#2a3f5f\",\"gridcolor\":\"white\",\"linecolor\":\"white\",\"minorgridcolor\":\"white\",\"startlinecolor\":\"#2a3f5f\"},\"baxis\":{\"endlinecolor\":\"#2a3f5f\",\"gridcolor\":\"white\",\"linecolor\":\"white\",\"minorgridcolor\":\"white\",\"startlinecolor\":\"#2a3f5f\"},\"type\":\"carpet\"}],\"table\":[{\"cells\":{\"fill\":{\"color\":\"#EBF0F8\"},\"line\":{\"color\":\"white\"}},\"header\":{\"fill\":{\"color\":\"#C8D4E3\"},\"line\":{\"color\":\"white\"}},\"type\":\"table\"}],\"barpolar\":[{\"marker\":{\"line\":{\"color\":\"#E5ECF6\",\"width\":0.5},\"pattern\":{\"fillmode\":\"overlay\",\"size\":10,\"solidity\":0.2}},\"type\":\"barpolar\"}],\"pie\":[{\"automargin\":true,\"type\":\"pie\"}]},\"layout\":{\"autotypenumbers\":\"strict\",\"colorway\":[\"#636efa\",\"#EF553B\",\"#00cc96\",\"#ab63fa\",\"#FFA15A\",\"#19d3f3\",\"#FF6692\",\"#B6E880\",\"#FF97FF\",\"#FECB52\"],\"font\":{\"color\":\"#2a3f5f\"},\"hovermode\":\"closest\",\"hoverlabel\":{\"align\":\"left\"},\"paper_bgcolor\":\"white\",\"plot_bgcolor\":\"#E5ECF6\",\"polar\":{\"bgcolor\":\"#E5ECF6\",\"angularaxis\":{\"gridcolor\":\"white\",\"linecolor\":\"white\",\"ticks\":\"\"},\"radialaxis\":{\"gridcolor\":\"white\",\"linecolor\":\"white\",\"ticks\":\"\"}},\"ternary\":{\"bgcolor\":\"#E5ECF6\",\"aaxis\":{\"gridcolor\":\"white\",\"linecolor\":\"white\",\"ticks\":\"\"},\"baxis\":{\"gridcolor\":\"white\",\"linecolor\":\"white\",\"ticks\":\"\"},\"caxis\":{\"gridcolor\":\"white\",\"linecolor\":\"white\",\"ticks\":\"\"}},\"coloraxis\":{\"colorbar\":{\"outlinewidth\":0,\"ticks\":\"\"}},\"colorscale\":{\"sequential\":[[0.0,\"#0d0887\"],[0.1111111111111111,\"#46039f\"],[0.2222222222222222,\"#7201a8\"],[0.3333333333333333,\"#9c179e\"],[0.4444444444444444,\"#bd3786\"],[0.5555555555555556,\"#d8576b\"],[0.6666666666666666,\"#ed7953\"],[0.7777777777777778,\"#fb9f3a\"],[0.8888888888888888,\"#fdca26\"],[1.0,\"#f0f921\"]],\"sequentialminus\":[[0.0,\"#0d0887\"],[0.1111111111111111,\"#46039f\"],[0.2222222222222222,\"#7201a8\"],[0.3333333333333333,\"#9c179e\"],[0.4444444444444444,\"#bd3786\"],[0.5555555555555556,\"#d8576b\"],[0.6666666666666666,\"#ed7953\"],[0.7777777777777778,\"#fb9f3a\"],[0.8888888888888888,\"#fdca26\"],[1.0,\"#f0f921\"]],\"diverging\":[[0,\"#8e0152\"],[0.1,\"#c51b7d\"],[0.2,\"#de77ae\"],[0.3,\"#f1b6da\"],[0.4,\"#fde0ef\"],[0.5,\"#f7f7f7\"],[0.6,\"#e6f5d0\"],[0.7,\"#b8e186\"],[0.8,\"#7fbc41\"],[0.9,\"#4d9221\"],[1,\"#276419\"]]},\"xaxis\":{\"gridcolor\":\"white\",\"linecolor\":\"white\",\"ticks\":\"\",\"title\":{\"standoff\":15},\"zerolinecolor\":\"white\",\"automargin\":true,\"zerolinewidth\":2},\"yaxis\":{\"gridcolor\":\"white\",\"linecolor\":\"white\",\"ticks\":\"\",\"title\":{\"standoff\":15},\"zerolinecolor\":\"white\",\"automargin\":true,\"zerolinewidth\":2},\"scene\":{\"xaxis\":{\"backgroundcolor\":\"#E5ECF6\",\"gridcolor\":\"white\",\"linecolor\":\"white\",\"showbackground\":true,\"ticks\":\"\",\"zerolinecolor\":\"white\",\"gridwidth\":2},\"yaxis\":{\"backgroundcolor\":\"#E5ECF6\",\"gridcolor\":\"white\",\"linecolor\":\"white\",\"showbackground\":true,\"ticks\":\"\",\"zerolinecolor\":\"white\",\"gridwidth\":2},\"zaxis\":{\"backgroundcolor\":\"#E5ECF6\",\"gridcolor\":\"white\",\"linecolor\":\"white\",\"showbackground\":true,\"ticks\":\"\",\"zerolinecolor\":\"white\",\"gridwidth\":2}},\"shapedefaults\":{\"line\":{\"color\":\"#2a3f5f\"}},\"annotationdefaults\":{\"arrowcolor\":\"#2a3f5f\",\"arrowhead\":0,\"arrowwidth\":1},\"geo\":{\"bgcolor\":\"white\",\"landcolor\":\"#E5ECF6\",\"subunitcolor\":\"white\",\"showland\":true,\"showlakes\":true,\"lakecolor\":\"white\"},\"title\":{\"x\":0.05},\"mapbox\":{\"style\":\"light\"}}},\"title\":{\"text\":\"SARIMA Forecast vs Actual (Params: {'p': 1, 'd': 0, 'q': 0, 'P': 1, 'D': 0, 'Q': 0, 's': 12})\"},\"xaxis\":{\"title\":{\"text\":\"Date\"}},\"yaxis\":{\"title\":{\"text\":\"Scaled Values\"}},\"legend\":{\"title\":{\"text\":\"Legend\"}},\"hovermode\":\"x\"},                        {\"responsive\": true}                    ).then(function(){\n",
              "                            \n",
              "var gd = document.getElementById('a0f7329d-3cc5-4b87-9cb7-614a46a05ee1');\n",
              "var x = new MutationObserver(function (mutations, observer) {{\n",
              "        var display = window.getComputedStyle(gd).display;\n",
              "        if (!display || display === 'none') {{\n",
              "            console.log([gd, 'removed!']);\n",
              "            Plotly.purge(gd);\n",
              "            observer.disconnect();\n",
              "        }}\n",
              "}});\n",
              "\n",
              "// Listen for the removal of the full notebook cells\n",
              "var notebookContainer = gd.closest('#notebook-container');\n",
              "if (notebookContainer) {{\n",
              "    x.observe(notebookContainer, {childList: true});\n",
              "}}\n",
              "\n",
              "// Listen for the clearing of the current output cell\n",
              "var outputEl = gd.closest('.output');\n",
              "if (outputEl) {{\n",
              "    x.observe(outputEl, {childList: true});\n",
              "}}\n",
              "\n",
              "                        })                };                            </script>        </div>\n",
              "</body>\n",
              "</html>"
            ]
          },
          "metadata": {}
        }
      ]
    }
  ]
}